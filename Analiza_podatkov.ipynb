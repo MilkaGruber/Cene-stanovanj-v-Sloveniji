{
 "cells": [
  {
   "cell_type": "markdown",
   "metadata": {},
   "source": [
    "# Analiza podatkov - Cene stanovanj v Sloveniji\n",
    "\n"
   ]
  },
  {
   "cell_type": "markdown",
   "metadata": {},
   "source": [
    "## Projektna naloga pri predmetu Programiranje 1\n",
    "\n",
    "Naloga obsega analizo podatkov o stanovanjih, ki so naprodaj v Sloveniji, pridobljenih iz spletne strani www.nepremicnine.net/ v mesecu novembru 2021 ter januarju 2022.\n",
    "\n",
    "Za posamezne regije oz. območja, kot so navedena na spletni strani sem zajela naslednje podatke: \n",
    "- lokacija\n",
    "- število sob\n",
    "- nadstropje\n",
    "- leto izgradnje\n",
    "- velikost\n",
    "- cena\n",
    "\n",
    "Žal sem podatke zajela le v dveh mesecih, zanimiva bi bila podobna analiza za vse mesece v letu, morda tudi primerjava z drugimi državami. V tej nalogi bom postavila ogrodje za takšno analizo na pridobljenih podatkih."
   ]
  },
  {
   "cell_type": "code",
   "execution_count": 1,
   "metadata": {},
   "outputs": [],
   "source": [
    "import pandas as pd"
   ]
  },
  {
   "cell_type": "code",
   "execution_count": 2,
   "metadata": {},
   "outputs": [],
   "source": [
    "path_november = \"C:/Users/Milka/Cene-stanovanj-v-Sloveniji/csv_podatki_november/\"\n",
    "\n",
    "path_januar = \"C:/Users/Milka/Cene-stanovanj-v-Sloveniji/csv_podatki_januar/\"\n",
    "\n",
    "import os \n",
    "seznam_november = os.listdir(path_november)\n",
    "seznam_januar = os.listdir(path_januar)\n",
    "\n",
    "def tabele_v_seznam(seznam, path):\n",
    "    seznam_tabel = []\n",
    "    for i in range(len(seznam)):\n",
    "        tabela = pd.read_csv(path + seznam[i])\n",
    "        seznam_tabel.append(tabela)\n",
    "    return seznam_tabel"
   ]
  },
  {
   "cell_type": "code",
   "execution_count": 22,
   "metadata": {},
   "outputs": [],
   "source": [
    "tabele_november = tabele_v_seznam(seznam_november, path_november)\n",
    "tabele_januar = tabele_v_seznam(seznam_januar, path_januar)"
   ]
  },
  {
   "cell_type": "markdown",
   "metadata": {},
   "source": [
    "Najprej bom v tabele dodala še dodaten stolpec in sicer cena kvadratnega metra (kar bo koristno pri nadaljnih izračunih)."
   ]
  },
  {
   "cell_type": "markdown",
   "metadata": {},
   "source": [
    "Koliko stanovanj je na voljo v posameznih regijah in razlika med meseci. (tabela)"
   ]
  },
  {
   "cell_type": "markdown",
   "metadata": {},
   "source": [
    "Za vsako izmed regij izračunam povprečno ceno, povprečno ceno na kvadrat, velikost stanovanj, starost ter število le-teh. Primerjava med novembrom in januarjem za vse regije. (tri ločene tabele). Ali drži, da so stanovanja najdražja v Ljubljani? Spreminjanje cen po mesecih."
   ]
  },
  {
   "cell_type": "markdown",
   "metadata": {},
   "source": [
    "Za mesec januar ter november pogledam povprečno ceno stanovanj po posameznih mestih. Kje je stanovanj največ?"
   ]
  },
  {
   "cell_type": "markdown",
   "metadata": {},
   "source": [
    "Združim tabele za november in januar po regijah (tiste, ki se ponavljajo upoštevam samo enkrat). Raziščem povezavo med starostjo in cenami stanovanj, ter med velikostjo ter cenami stanovanj. V katerih regijah je na trgu največ novejših stanovanj in kje največ starejših? Tabela št. stanovanj po letih, ter po velikosti."
   ]
  },
  {
   "cell_type": "markdown",
   "metadata": {},
   "source": [
    "Cena v odvisnosti od velikosti sob in nadstropja."
   ]
  },
  {
   "cell_type": "markdown",
   "metadata": {},
   "source": [
    "Za podatke iz novembra in januarja poiščem ponavljajoče se oglase in jih shranim v novo tabelo. Ali so stanovanja, ki so dlje časa na trgu dražja?"
   ]
  },
  {
   "cell_type": "markdown",
   "metadata": {},
   "source": [
    "Zaključek:"
   ]
  }
 ],
 "metadata": {
  "interpreter": {
   "hash": "23393d2575091a37cff0d0e9e7479591a295495b26c3b2ebf9b64da572e02d85"
  },
  "kernelspec": {
   "display_name": "Python 3.8.7 64-bit",
   "language": "python",
   "name": "python3"
  },
  "language_info": {
   "codemirror_mode": {
    "name": "ipython",
    "version": 3
   },
   "file_extension": ".py",
   "mimetype": "text/x-python",
   "name": "python",
   "nbconvert_exporter": "python",
   "pygments_lexer": "ipython3",
   "version": "3.9.7"
  },
  "orig_nbformat": 4
 },
 "nbformat": 4,
 "nbformat_minor": 2
}

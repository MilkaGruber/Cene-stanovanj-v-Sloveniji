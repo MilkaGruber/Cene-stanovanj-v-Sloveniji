{
 "cells": [
  {
   "cell_type": "markdown",
   "metadata": {},
   "source": [
    "# Analiza podatkov - Cene stanovanj v Sloveniji\n",
    "\n"
   ]
  },
  {
   "cell_type": "markdown",
   "metadata": {},
   "source": [
    "## Projektna naloga pri predmetu Programiranje 1\n",
    "\n",
    "Naloga obsega analizo podatkov o nepremičninah, ki so naprodaj v Sloveniji, pridobljenih iz spletne strani www.nepremicnine.net/ v mesecu novembru 2021 ter januarju 2022.\n",
    "\n",
    "Za posamezne regije oz. območja, kot so navedena na spletni strani sem zajela naslednje podatke: \n",
    "- lokacija\n",
    "- število sob\n",
    "- nadstropje\n",
    "- leto izgradnje\n",
    "- velikost\n",
    "- cena\n"
   ]
  },
  {
   "cell_type": "code",
   "execution_count": 102,
   "metadata": {},
   "outputs": [],
   "source": [
    "import pandas as pd\n",
    "import numpy as np\n",
    "import matplotlib.pyplot as plt"
   ]
  },
  {
   "cell_type": "code",
   "execution_count": 103,
   "metadata": {},
   "outputs": [],
   "source": [
    "path_november = \"C:/Users/Milka/Cene-stanovanj-v-Sloveniji/csv_podatki_november/\"\n",
    "\n",
    "path_januar = \"C:/Users/Milka/Cene-stanovanj-v-Sloveniji/csv_podatki_januar/\"\n",
    "\n",
    "import os \n",
    "seznam_november = os.listdir(path_november)\n",
    "seznam_januar = os.listdir(path_januar)\n",
    "\n",
    "def tabele_v_seznam(seznam, path):\n",
    "    seznam_tabel = []\n",
    "    for i in range(len(seznam)):\n",
    "        tabela = pd.read_csv(path + seznam[i])\n",
    "        seznam_tabel.append(tabela)\n",
    "    return seznam_tabel"
   ]
  },
  {
   "cell_type": "markdown",
   "metadata": {},
   "source": [
    "Za lažje delo bom najprej vse podatke za posamezni mesec združila v novo tabelo. Vsakemu stanovanju bo dodan nov stolpec z informacijo o regiji."
   ]
  },
  {
   "cell_type": "code",
   "execution_count": 104,
   "metadata": {},
   "outputs": [
    {
     "data": {
      "text/html": [
       "<div>\n",
       "<style scoped>\n",
       "    .dataframe tbody tr th:only-of-type {\n",
       "        vertical-align: middle;\n",
       "    }\n",
       "\n",
       "    .dataframe tbody tr th {\n",
       "        vertical-align: top;\n",
       "    }\n",
       "\n",
       "    .dataframe thead th {\n",
       "        text-align: right;\n",
       "    }\n",
       "</style>\n",
       "<table border=\"1\" class=\"dataframe\">\n",
       "  <thead>\n",
       "    <tr style=\"text-align: right;\">\n",
       "      <th></th>\n",
       "      <th></th>\n",
       "      <th>lokacija</th>\n",
       "      <th>sobno</th>\n",
       "      <th>nadstropje</th>\n",
       "      <th>leto</th>\n",
       "      <th>velikost</th>\n",
       "      <th>cena</th>\n",
       "      <th>opis</th>\n",
       "    </tr>\n",
       "  </thead>\n",
       "  <tbody>\n",
       "    <tr>\n",
       "      <th rowspan=\"5\" valign=\"top\">Dolenjska</th>\n",
       "      <th>0</th>\n",
       "      <td>MIRNA</td>\n",
       "      <td>3-sobno</td>\n",
       "      <td>1</td>\n",
       "      <td>2021</td>\n",
       "      <td>83,40</td>\n",
       "      <td>165.132,00</td>\n",
       "      <td>NaN</td>\n",
       "    </tr>\n",
       "    <tr>\n",
       "      <th>1</th>\n",
       "      <td>NOVO MESTO</td>\n",
       "      <td>3-sobno</td>\n",
       "      <td>2</td>\n",
       "      <td>2023</td>\n",
       "      <td>90,68</td>\n",
       "      <td>207.332,50</td>\n",
       "      <td>NaN</td>\n",
       "    </tr>\n",
       "    <tr>\n",
       "      <th>2</th>\n",
       "      <td>NOVO MESTO</td>\n",
       "      <td>4-sobno</td>\n",
       "      <td>5</td>\n",
       "      <td>2023</td>\n",
       "      <td>104,82</td>\n",
       "      <td>273.402,54</td>\n",
       "      <td>NaN</td>\n",
       "    </tr>\n",
       "    <tr>\n",
       "      <th>3</th>\n",
       "      <td>ČRNOMELJ</td>\n",
       "      <td>2-sobno</td>\n",
       "      <td>4</td>\n",
       "      <td>1984</td>\n",
       "      <td>62,00</td>\n",
       "      <td>50.000,00</td>\n",
       "      <td>NaN</td>\n",
       "    </tr>\n",
       "    <tr>\n",
       "      <th>4</th>\n",
       "      <td>ČRNOMELJ, CENTER</td>\n",
       "      <td>4-sobno</td>\n",
       "      <td>2</td>\n",
       "      <td>2014</td>\n",
       "      <td>150,00</td>\n",
       "      <td>90.000,00</td>\n",
       "      <td>NaN</td>\n",
       "    </tr>\n",
       "    <tr>\n",
       "      <th>...</th>\n",
       "      <th>...</th>\n",
       "      <td>...</td>\n",
       "      <td>...</td>\n",
       "      <td>...</td>\n",
       "      <td>...</td>\n",
       "      <td>...</td>\n",
       "      <td>...</td>\n",
       "      <td>...</td>\n",
       "    </tr>\n",
       "    <tr>\n",
       "      <th rowspan=\"5\" valign=\"top\">Zasavska</th>\n",
       "      <th>5</th>\n",
       "      <td>KRŠKO</td>\n",
       "      <td>3,5-sobno</td>\n",
       "      <td>M</td>\n",
       "      <td>1992</td>\n",
       "      <td>88,70</td>\n",
       "      <td>59.900,00</td>\n",
       "      <td>NaN</td>\n",
       "    </tr>\n",
       "    <tr>\n",
       "      <th>6</th>\n",
       "      <td>SENOVO</td>\n",
       "      <td>3-sobno</td>\n",
       "      <td>1</td>\n",
       "      <td>1923</td>\n",
       "      <td>98,90</td>\n",
       "      <td>80.000,00</td>\n",
       "      <td>NaN</td>\n",
       "    </tr>\n",
       "    <tr>\n",
       "      <th>7</th>\n",
       "      <td>SENOVO</td>\n",
       "      <td>3,5-sobno</td>\n",
       "      <td>VP</td>\n",
       "      <td>1973</td>\n",
       "      <td>100,00</td>\n",
       "      <td>95.000,00</td>\n",
       "      <td>NaN</td>\n",
       "    </tr>\n",
       "    <tr>\n",
       "      <th>8</th>\n",
       "      <td>SENOVO</td>\n",
       "      <td>3,5-sobno</td>\n",
       "      <td>1</td>\n",
       "      <td>1973</td>\n",
       "      <td>100,00</td>\n",
       "      <td>89.000,00</td>\n",
       "      <td>NaN</td>\n",
       "    </tr>\n",
       "    <tr>\n",
       "      <th>9</th>\n",
       "      <td>SEVNICA, VRHOVO</td>\n",
       "      <td>3-sobno</td>\n",
       "      <td>M</td>\n",
       "      <td>1990</td>\n",
       "      <td>73,00</td>\n",
       "      <td>71.000,00</td>\n",
       "      <td>NaN</td>\n",
       "    </tr>\n",
       "  </tbody>\n",
       "</table>\n",
       "<p>13915 rows × 7 columns</p>\n",
       "</div>"
      ],
      "text/plain": [
       "                     lokacija      sobno nadstropje  leto velikost  \\\n",
       "Dolenjska 0             MIRNA    3-sobno          1  2021   83,40    \n",
       "          1        NOVO MESTO    3-sobno          2  2023   90,68    \n",
       "          2        NOVO MESTO    4-sobno          5  2023  104,82    \n",
       "          3          ČRNOMELJ    2-sobno          4  1984   62,00    \n",
       "          4  ČRNOMELJ, CENTER    4-sobno          2  2014  150,00    \n",
       "...                       ...        ...        ...   ...      ...   \n",
       "Zasavska  5             KRŠKO  3,5-sobno          M  1992   88,70    \n",
       "          6            SENOVO    3-sobno          1  1923   98,90    \n",
       "          7            SENOVO  3,5-sobno         VP  1973  100,00    \n",
       "          8            SENOVO  3,5-sobno          1  1973  100,00    \n",
       "          9   SEVNICA, VRHOVO    3-sobno          M  1990   73,00    \n",
       "\n",
       "                   cena opis  \n",
       "Dolenjska 0  165.132,00  NaN  \n",
       "          1  207.332,50  NaN  \n",
       "          2  273.402,54  NaN  \n",
       "          3   50.000,00  NaN  \n",
       "          4   90.000,00  NaN  \n",
       "...                 ...  ...  \n",
       "Zasavska  5   59.900,00  NaN  \n",
       "          6   80.000,00  NaN  \n",
       "          7   95.000,00  NaN  \n",
       "          8   89.000,00  NaN  \n",
       "          9   71.000,00  NaN  \n",
       "\n",
       "[13915 rows x 7 columns]"
      ]
     },
     "execution_count": 104,
     "metadata": {},
     "output_type": "execute_result"
    }
   ],
   "source": [
    "tabele_november = tabele_v_seznam(seznam_november, path_november)\n",
    "tabele_januar = tabele_v_seznam(seznam_januar, path_januar)\n",
    "\n",
    "stolpec_regij = [\"Dolenjska\", \"Gorenjska\", \"Južna Primorska\", \n",
    "\"Koroška\", \"LJ center\", \"LJ okolica\", \"Posavska\", \n",
    "\"Savinjska\", \"Severna Primorska\", \"Zasavska\"]\n",
    "\n",
    "podatki_november = pd.concat(tabele_november, keys=stolpec_regij)\n",
    "podatki_januar = pd.concat(tabele_januar, keys=stolpec_regij)\n",
    "podatki_november"
   ]
  },
  {
   "cell_type": "markdown",
   "metadata": {},
   "source": [
    "### Čiščenje podatkov\n",
    "V eni izemd tabel se je pojavil dodaten stolpec opis, ki ni koristen, zato ga izbrišem. \n",
    "Opazila sem, da se v csv datoteki ponavljajo vnosi, čeprav na spletni strani ni ponovljenih oglasov.\n",
    "Pri združevanju tabel in brisanju vrstic so se pojavile težave pri indeksih."
   ]
  },
  {
   "cell_type": "code",
   "execution_count": 110,
   "metadata": {},
   "outputs": [
    {
     "name": "stderr",
     "output_type": "stream",
     "text": [
      "C:\\Users\\Milka\\AppData\\Local\\Temp\\ipykernel_2864\\2519313811.py:6: FutureWarning: In a future version of pandas all arguments of DataFrame.drop except for the argument 'labels' will be keyword-only\n",
      "  november = november.reset_index().drop('level_1', 1)\n",
      "C:\\Users\\Milka\\AppData\\Local\\Temp\\ipykernel_2864\\2519313811.py:7: FutureWarning: In a future version of pandas all arguments of DataFrame.drop except for the argument 'labels' will be keyword-only\n",
      "  januar = januar.reset_index().drop('level_1', 1)\n",
      "C:\\Users\\Milka\\AppData\\Local\\Temp\\ipykernel_2864\\2519313811.py:12: FutureWarning: In a future version of pandas all arguments of DataFrame.drop except for the argument 'labels' will be keyword-only\n",
      "  november = november.drop('level_0', 1)\n",
      "C:\\Users\\Milka\\AppData\\Local\\Temp\\ipykernel_2864\\2519313811.py:13: FutureWarning: In a future version of pandas all arguments of DataFrame.drop except for the argument 'labels' will be keyword-only\n",
      "  januar = januar.drop('level_0', 1)\n",
      "C:\\Users\\Milka\\AppData\\Local\\Temp\\ipykernel_2864\\2519313811.py:17: SettingWithCopyWarning: \n",
      "A value is trying to be set on a copy of a slice from a DataFrame\n",
      "\n",
      "See the caveats in the documentation: https://pandas.pydata.org/pandas-docs/stable/user_guide/indexing.html#returning-a-view-versus-a-copy\n",
      "  januar['cena'][364] = '199.000,00'\n"
     ]
    }
   ],
   "source": [
    "pd.set_option(\"display.max_rows\", 10, \"display.max_columns\", 20)\n",
    "\n",
    "november = podatki_november.drop_duplicates().drop(columns= 'opis')\n",
    "januar = podatki_januar.drop_duplicates()\n",
    "\n",
    "november = november.reset_index().drop('level_1', 1)\n",
    "januar = januar.reset_index().drop('level_1', 1)\n",
    "\n",
    "november['regija'] = november['level_0']\n",
    "januar['regija'] = januar['level_0']\n",
    "\n",
    "november = november.drop('level_0', 1)\n",
    "januar = januar.drop('level_0', 1)\n",
    "\n",
    "#V tabeli januar se je na enem mestu 64 pojavila napačna vrednost, zato jo ročno popravim\n",
    "\n",
    "januar['cena'][364] = '199.000,00'"
   ]
  },
  {
   "cell_type": "markdown",
   "metadata": {},
   "source": [
    "Pri pridobivanju podatkov se je pojavilo nekaj napak pri stolpcu 'cena'. Podatke prečistim z naslednjo funckijo in jim spremeni tip v cela števila.\n",
    "V float bo potrebno spremeniti tudi velikost stanovanja, v int pa leto gradnje."
   ]
  },
  {
   "cell_type": "code",
   "execution_count": 117,
   "metadata": {},
   "outputs": [
    {
     "data": {
      "text/html": [
       "<div>\n",
       "<style scoped>\n",
       "    .dataframe tbody tr th:only-of-type {\n",
       "        vertical-align: middle;\n",
       "    }\n",
       "\n",
       "    .dataframe tbody tr th {\n",
       "        vertical-align: top;\n",
       "    }\n",
       "\n",
       "    .dataframe thead th {\n",
       "        text-align: right;\n",
       "    }\n",
       "</style>\n",
       "<table border=\"1\" class=\"dataframe\">\n",
       "  <thead>\n",
       "    <tr style=\"text-align: right;\">\n",
       "      <th></th>\n",
       "      <th>lokacija</th>\n",
       "      <th>sobno</th>\n",
       "      <th>nadstropje</th>\n",
       "      <th>leto</th>\n",
       "      <th>velikost</th>\n",
       "      <th>cena</th>\n",
       "      <th>regija</th>\n",
       "    </tr>\n",
       "  </thead>\n",
       "  <tbody>\n",
       "    <tr>\n",
       "      <th>0</th>\n",
       "      <td>MIRNA</td>\n",
       "      <td>3-sobno</td>\n",
       "      <td>1</td>\n",
       "      <td>2021</td>\n",
       "      <td>83.40</td>\n",
       "      <td>165132</td>\n",
       "      <td>Dolenjska</td>\n",
       "    </tr>\n",
       "    <tr>\n",
       "      <th>1</th>\n",
       "      <td>NOVO MESTO</td>\n",
       "      <td>3-sobno</td>\n",
       "      <td>2</td>\n",
       "      <td>2023</td>\n",
       "      <td>90.68</td>\n",
       "      <td>207332</td>\n",
       "      <td>Dolenjska</td>\n",
       "    </tr>\n",
       "    <tr>\n",
       "      <th>2</th>\n",
       "      <td>NOVO MESTO</td>\n",
       "      <td>4-sobno</td>\n",
       "      <td>5</td>\n",
       "      <td>2023</td>\n",
       "      <td>104.82</td>\n",
       "      <td>273402</td>\n",
       "      <td>Dolenjska</td>\n",
       "    </tr>\n",
       "    <tr>\n",
       "      <th>3</th>\n",
       "      <td>ČRNOMELJ</td>\n",
       "      <td>2-sobno</td>\n",
       "      <td>4</td>\n",
       "      <td>1984</td>\n",
       "      <td>62.00</td>\n",
       "      <td>50000</td>\n",
       "      <td>Dolenjska</td>\n",
       "    </tr>\n",
       "    <tr>\n",
       "      <th>4</th>\n",
       "      <td>ČRNOMELJ, CENTER</td>\n",
       "      <td>4-sobno</td>\n",
       "      <td>2</td>\n",
       "      <td>2014</td>\n",
       "      <td>150.00</td>\n",
       "      <td>90000</td>\n",
       "      <td>Dolenjska</td>\n",
       "    </tr>\n",
       "    <tr>\n",
       "      <th>...</th>\n",
       "      <td>...</td>\n",
       "      <td>...</td>\n",
       "      <td>...</td>\n",
       "      <td>...</td>\n",
       "      <td>...</td>\n",
       "      <td>...</td>\n",
       "      <td>...</td>\n",
       "    </tr>\n",
       "    <tr>\n",
       "      <th>1324</th>\n",
       "      <td>KRŠKO</td>\n",
       "      <td>3,5-sobno</td>\n",
       "      <td>M</td>\n",
       "      <td>1992</td>\n",
       "      <td>88.70</td>\n",
       "      <td>59900</td>\n",
       "      <td>Zasavska</td>\n",
       "    </tr>\n",
       "    <tr>\n",
       "      <th>1325</th>\n",
       "      <td>SENOVO</td>\n",
       "      <td>3-sobno</td>\n",
       "      <td>1</td>\n",
       "      <td>1923</td>\n",
       "      <td>98.90</td>\n",
       "      <td>80000</td>\n",
       "      <td>Zasavska</td>\n",
       "    </tr>\n",
       "    <tr>\n",
       "      <th>1326</th>\n",
       "      <td>SENOVO</td>\n",
       "      <td>3,5-sobno</td>\n",
       "      <td>VP</td>\n",
       "      <td>1973</td>\n",
       "      <td>100.00</td>\n",
       "      <td>95000</td>\n",
       "      <td>Zasavska</td>\n",
       "    </tr>\n",
       "    <tr>\n",
       "      <th>1327</th>\n",
       "      <td>SENOVO</td>\n",
       "      <td>3,5-sobno</td>\n",
       "      <td>1</td>\n",
       "      <td>1973</td>\n",
       "      <td>100.00</td>\n",
       "      <td>89000</td>\n",
       "      <td>Zasavska</td>\n",
       "    </tr>\n",
       "    <tr>\n",
       "      <th>1328</th>\n",
       "      <td>SEVNICA, VRHOVO</td>\n",
       "      <td>3-sobno</td>\n",
       "      <td>M</td>\n",
       "      <td>1990</td>\n",
       "      <td>73.00</td>\n",
       "      <td>71000</td>\n",
       "      <td>Zasavska</td>\n",
       "    </tr>\n",
       "  </tbody>\n",
       "</table>\n",
       "<p>1329 rows × 7 columns</p>\n",
       "</div>"
      ],
      "text/plain": [
       "              lokacija      sobno nadstropje  leto  velikost    cena  \\\n",
       "0                MIRNA    3-sobno          1  2021     83.40  165132   \n",
       "1           NOVO MESTO    3-sobno          2  2023     90.68  207332   \n",
       "2           NOVO MESTO    4-sobno          5  2023    104.82  273402   \n",
       "3             ČRNOMELJ    2-sobno          4  1984     62.00   50000   \n",
       "4     ČRNOMELJ, CENTER    4-sobno          2  2014    150.00   90000   \n",
       "...                ...        ...        ...   ...       ...     ...   \n",
       "1324             KRŠKO  3,5-sobno          M  1992     88.70   59900   \n",
       "1325            SENOVO    3-sobno          1  1923     98.90   80000   \n",
       "1326            SENOVO  3,5-sobno         VP  1973    100.00   95000   \n",
       "1327            SENOVO  3,5-sobno          1  1973    100.00   89000   \n",
       "1328   SEVNICA, VRHOVO    3-sobno          M  1990     73.00   71000   \n",
       "\n",
       "         regija  \n",
       "0     Dolenjska  \n",
       "1     Dolenjska  \n",
       "2     Dolenjska  \n",
       "3     Dolenjska  \n",
       "4     Dolenjska  \n",
       "...         ...  \n",
       "1324   Zasavska  \n",
       "1325   Zasavska  \n",
       "1326   Zasavska  \n",
       "1327   Zasavska  \n",
       "1328   Zasavska  \n",
       "\n",
       "[1329 rows x 7 columns]"
      ]
     },
     "execution_count": 117,
     "metadata": {},
     "output_type": "execute_result"
    }
   ],
   "source": [
    "def popravi_ceno(vnos):\n",
    "    nov_niz = ''\n",
    "    for znak in str(vnos):\n",
    "        if znak != ',':\n",
    "            nov_niz += znak\n",
    "        else:\n",
    "            break\n",
    "    return int(nov_niz.replace('.',''))\n",
    "\n",
    "def popravi_velikost(vnos):\n",
    "    return float((str(vnos)).replace(',', '.'))\n",
    "\n",
    "def popravi_leto(vnos):\n",
    "    return int(vnos)\n",
    "\n",
    "november['cena'] = november['cena'].map(lambda x: popravi_ceno(x))\n",
    "januar['cena'] = januar['cena'].map(lambda x: popravi_ceno(x))\n",
    "\n",
    "november['velikost'] = november['velikost'].map(lambda x: popravi_velikost(x))\n",
    "januar['velikost'] = januar['velikost'].map(lambda x: popravi_velikost(x))\n",
    "\n",
    "november['leto'] = november['leto'].map(lambda x: popravi_leto(x))\n",
    "januar['leto'] = januar['leto'].map(lambda x: popravi_leto(x))\n",
    "\n",
    "# če bi analizo delala za več mesecev bi se splačalo napisati funkcije za vse vrstice, ki se ponavljajo\n",
    "# primer:\n",
    "\n",
    "def popravi_ceno_za_mesec(mesec):\n",
    "    mesec['cena'] = mesec['cena'].map(lambda x: popravi_ceno(x))\n",
    "    return mesec\n",
    "\n",
    "popravi_ceno_za_mesec(november)\n",
    "\n"
   ]
  },
  {
   "cell_type": "markdown",
   "metadata": {},
   "source": [
    "Za primerjavo cen bo koristna informacija o ceni na kvadratni meter nepremičnine."
   ]
  },
  {
   "cell_type": "code",
   "execution_count": 118,
   "metadata": {},
   "outputs": [
    {
     "data": {
      "text/html": [
       "<div>\n",
       "<style scoped>\n",
       "    .dataframe tbody tr th:only-of-type {\n",
       "        vertical-align: middle;\n",
       "    }\n",
       "\n",
       "    .dataframe tbody tr th {\n",
       "        vertical-align: top;\n",
       "    }\n",
       "\n",
       "    .dataframe thead th {\n",
       "        text-align: right;\n",
       "    }\n",
       "</style>\n",
       "<table border=\"1\" class=\"dataframe\">\n",
       "  <thead>\n",
       "    <tr style=\"text-align: right;\">\n",
       "      <th></th>\n",
       "      <th>lokacija</th>\n",
       "      <th>sobno</th>\n",
       "      <th>nadstropje</th>\n",
       "      <th>leto</th>\n",
       "      <th>velikost</th>\n",
       "      <th>cena</th>\n",
       "      <th>regija</th>\n",
       "      <th>cena na m2</th>\n",
       "    </tr>\n",
       "  </thead>\n",
       "  <tbody>\n",
       "    <tr>\n",
       "      <th>0</th>\n",
       "      <td>MIRNA</td>\n",
       "      <td>3-sobno</td>\n",
       "      <td>1</td>\n",
       "      <td>2021</td>\n",
       "      <td>83.40</td>\n",
       "      <td>165132</td>\n",
       "      <td>Dolenjska</td>\n",
       "      <td>1980.0</td>\n",
       "    </tr>\n",
       "    <tr>\n",
       "      <th>1</th>\n",
       "      <td>NOVO MESTO</td>\n",
       "      <td>3-sobno</td>\n",
       "      <td>2</td>\n",
       "      <td>2023</td>\n",
       "      <td>90.68</td>\n",
       "      <td>207332</td>\n",
       "      <td>Dolenjska</td>\n",
       "      <td>2286.0</td>\n",
       "    </tr>\n",
       "    <tr>\n",
       "      <th>2</th>\n",
       "      <td>NOVO MESTO</td>\n",
       "      <td>4-sobno</td>\n",
       "      <td>5</td>\n",
       "      <td>2023</td>\n",
       "      <td>104.82</td>\n",
       "      <td>273402</td>\n",
       "      <td>Dolenjska</td>\n",
       "      <td>2608.0</td>\n",
       "    </tr>\n",
       "    <tr>\n",
       "      <th>3</th>\n",
       "      <td>ČRNOMELJ</td>\n",
       "      <td>2-sobno</td>\n",
       "      <td>4</td>\n",
       "      <td>1984</td>\n",
       "      <td>62.00</td>\n",
       "      <td>50000</td>\n",
       "      <td>Dolenjska</td>\n",
       "      <td>806.0</td>\n",
       "    </tr>\n",
       "    <tr>\n",
       "      <th>4</th>\n",
       "      <td>ČRNOMELJ, CENTER</td>\n",
       "      <td>4-sobno</td>\n",
       "      <td>2</td>\n",
       "      <td>2014</td>\n",
       "      <td>150.00</td>\n",
       "      <td>90000</td>\n",
       "      <td>Dolenjska</td>\n",
       "      <td>600.0</td>\n",
       "    </tr>\n",
       "    <tr>\n",
       "      <th>...</th>\n",
       "      <td>...</td>\n",
       "      <td>...</td>\n",
       "      <td>...</td>\n",
       "      <td>...</td>\n",
       "      <td>...</td>\n",
       "      <td>...</td>\n",
       "      <td>...</td>\n",
       "      <td>...</td>\n",
       "    </tr>\n",
       "    <tr>\n",
       "      <th>1324</th>\n",
       "      <td>KRŠKO</td>\n",
       "      <td>3,5-sobno</td>\n",
       "      <td>M</td>\n",
       "      <td>1992</td>\n",
       "      <td>88.70</td>\n",
       "      <td>59900</td>\n",
       "      <td>Zasavska</td>\n",
       "      <td>675.0</td>\n",
       "    </tr>\n",
       "    <tr>\n",
       "      <th>1325</th>\n",
       "      <td>SENOVO</td>\n",
       "      <td>3-sobno</td>\n",
       "      <td>1</td>\n",
       "      <td>1923</td>\n",
       "      <td>98.90</td>\n",
       "      <td>80000</td>\n",
       "      <td>Zasavska</td>\n",
       "      <td>809.0</td>\n",
       "    </tr>\n",
       "    <tr>\n",
       "      <th>1326</th>\n",
       "      <td>SENOVO</td>\n",
       "      <td>3,5-sobno</td>\n",
       "      <td>VP</td>\n",
       "      <td>1973</td>\n",
       "      <td>100.00</td>\n",
       "      <td>95000</td>\n",
       "      <td>Zasavska</td>\n",
       "      <td>950.0</td>\n",
       "    </tr>\n",
       "    <tr>\n",
       "      <th>1327</th>\n",
       "      <td>SENOVO</td>\n",
       "      <td>3,5-sobno</td>\n",
       "      <td>1</td>\n",
       "      <td>1973</td>\n",
       "      <td>100.00</td>\n",
       "      <td>89000</td>\n",
       "      <td>Zasavska</td>\n",
       "      <td>890.0</td>\n",
       "    </tr>\n",
       "    <tr>\n",
       "      <th>1328</th>\n",
       "      <td>SEVNICA, VRHOVO</td>\n",
       "      <td>3-sobno</td>\n",
       "      <td>M</td>\n",
       "      <td>1990</td>\n",
       "      <td>73.00</td>\n",
       "      <td>71000</td>\n",
       "      <td>Zasavska</td>\n",
       "      <td>973.0</td>\n",
       "    </tr>\n",
       "  </tbody>\n",
       "</table>\n",
       "<p>1329 rows × 8 columns</p>\n",
       "</div>"
      ],
      "text/plain": [
       "              lokacija      sobno nadstropje  leto  velikost    cena  \\\n",
       "0                MIRNA    3-sobno          1  2021     83.40  165132   \n",
       "1           NOVO MESTO    3-sobno          2  2023     90.68  207332   \n",
       "2           NOVO MESTO    4-sobno          5  2023    104.82  273402   \n",
       "3             ČRNOMELJ    2-sobno          4  1984     62.00   50000   \n",
       "4     ČRNOMELJ, CENTER    4-sobno          2  2014    150.00   90000   \n",
       "...                ...        ...        ...   ...       ...     ...   \n",
       "1324             KRŠKO  3,5-sobno          M  1992     88.70   59900   \n",
       "1325            SENOVO    3-sobno          1  1923     98.90   80000   \n",
       "1326            SENOVO  3,5-sobno         VP  1973    100.00   95000   \n",
       "1327            SENOVO  3,5-sobno          1  1973    100.00   89000   \n",
       "1328   SEVNICA, VRHOVO    3-sobno          M  1990     73.00   71000   \n",
       "\n",
       "         regija  cena na m2  \n",
       "0     Dolenjska      1980.0  \n",
       "1     Dolenjska      2286.0  \n",
       "2     Dolenjska      2608.0  \n",
       "3     Dolenjska       806.0  \n",
       "4     Dolenjska       600.0  \n",
       "...         ...         ...  \n",
       "1324   Zasavska       675.0  \n",
       "1325   Zasavska       809.0  \n",
       "1326   Zasavska       950.0  \n",
       "1327   Zasavska       890.0  \n",
       "1328   Zasavska       973.0  \n",
       "\n",
       "[1329 rows x 8 columns]"
      ]
     },
     "execution_count": 118,
     "metadata": {},
     "output_type": "execute_result"
    }
   ],
   "source": [
    "november['cena na m2'] = round(november['cena'] / november['velikost'])\n",
    "januar['cena na m2'] = round(januar['cena'] / januar['velikost'])\n",
    "november"
   ]
  },
  {
   "cell_type": "markdown",
   "metadata": {},
   "source": [
    "Za natančnejšo analizo podatkov glede na mesto v katerem je nepremičnina, moram popraviti stolpec lokacija, tako da bo v njem ostalo samo ime kraja/mesta."
   ]
  },
  {
   "cell_type": "code",
   "execution_count": 119,
   "metadata": {},
   "outputs": [
    {
     "data": {
      "text/html": [
       "<div>\n",
       "<style scoped>\n",
       "    .dataframe tbody tr th:only-of-type {\n",
       "        vertical-align: middle;\n",
       "    }\n",
       "\n",
       "    .dataframe tbody tr th {\n",
       "        vertical-align: top;\n",
       "    }\n",
       "\n",
       "    .dataframe thead th {\n",
       "        text-align: right;\n",
       "    }\n",
       "</style>\n",
       "<table border=\"1\" class=\"dataframe\">\n",
       "  <thead>\n",
       "    <tr style=\"text-align: right;\">\n",
       "      <th></th>\n",
       "      <th>lokacija</th>\n",
       "      <th>sobno</th>\n",
       "      <th>nadstropje</th>\n",
       "      <th>leto</th>\n",
       "      <th>velikost</th>\n",
       "      <th>cena</th>\n",
       "      <th>regija</th>\n",
       "      <th>cena na m2</th>\n",
       "      <th>mesto</th>\n",
       "    </tr>\n",
       "  </thead>\n",
       "  <tbody>\n",
       "    <tr>\n",
       "      <th>0</th>\n",
       "      <td>MIRNA</td>\n",
       "      <td>3-sobno</td>\n",
       "      <td>1</td>\n",
       "      <td>2021</td>\n",
       "      <td>83.40</td>\n",
       "      <td>165132</td>\n",
       "      <td>Dolenjska</td>\n",
       "      <td>1980.0</td>\n",
       "      <td>MIRNA</td>\n",
       "    </tr>\n",
       "    <tr>\n",
       "      <th>1</th>\n",
       "      <td>NOVO MESTO</td>\n",
       "      <td>3-sobno</td>\n",
       "      <td>2</td>\n",
       "      <td>2023</td>\n",
       "      <td>90.68</td>\n",
       "      <td>207332</td>\n",
       "      <td>Dolenjska</td>\n",
       "      <td>2286.0</td>\n",
       "      <td>NOVO MESTO</td>\n",
       "    </tr>\n",
       "    <tr>\n",
       "      <th>2</th>\n",
       "      <td>NOVO MESTO</td>\n",
       "      <td>4-sobno</td>\n",
       "      <td>5</td>\n",
       "      <td>2023</td>\n",
       "      <td>104.82</td>\n",
       "      <td>273402</td>\n",
       "      <td>Dolenjska</td>\n",
       "      <td>2608.0</td>\n",
       "      <td>NOVO MESTO</td>\n",
       "    </tr>\n",
       "    <tr>\n",
       "      <th>3</th>\n",
       "      <td>ČRNOMELJ</td>\n",
       "      <td>2-sobno</td>\n",
       "      <td>4</td>\n",
       "      <td>1984</td>\n",
       "      <td>62.00</td>\n",
       "      <td>50000</td>\n",
       "      <td>Dolenjska</td>\n",
       "      <td>806.0</td>\n",
       "      <td>ČRNOMELJ</td>\n",
       "    </tr>\n",
       "    <tr>\n",
       "      <th>4</th>\n",
       "      <td>ČRNOMELJ, CENTER</td>\n",
       "      <td>4-sobno</td>\n",
       "      <td>2</td>\n",
       "      <td>2014</td>\n",
       "      <td>150.00</td>\n",
       "      <td>90000</td>\n",
       "      <td>Dolenjska</td>\n",
       "      <td>600.0</td>\n",
       "      <td>ČRNOMELJ</td>\n",
       "    </tr>\n",
       "    <tr>\n",
       "      <th>...</th>\n",
       "      <td>...</td>\n",
       "      <td>...</td>\n",
       "      <td>...</td>\n",
       "      <td>...</td>\n",
       "      <td>...</td>\n",
       "      <td>...</td>\n",
       "      <td>...</td>\n",
       "      <td>...</td>\n",
       "      <td>...</td>\n",
       "    </tr>\n",
       "    <tr>\n",
       "      <th>1324</th>\n",
       "      <td>KRŠKO</td>\n",
       "      <td>3,5-sobno</td>\n",
       "      <td>M</td>\n",
       "      <td>1992</td>\n",
       "      <td>88.70</td>\n",
       "      <td>59900</td>\n",
       "      <td>Zasavska</td>\n",
       "      <td>675.0</td>\n",
       "      <td>KRŠKO</td>\n",
       "    </tr>\n",
       "    <tr>\n",
       "      <th>1325</th>\n",
       "      <td>SENOVO</td>\n",
       "      <td>3-sobno</td>\n",
       "      <td>1</td>\n",
       "      <td>1923</td>\n",
       "      <td>98.90</td>\n",
       "      <td>80000</td>\n",
       "      <td>Zasavska</td>\n",
       "      <td>809.0</td>\n",
       "      <td>SENOVO</td>\n",
       "    </tr>\n",
       "    <tr>\n",
       "      <th>1326</th>\n",
       "      <td>SENOVO</td>\n",
       "      <td>3,5-sobno</td>\n",
       "      <td>VP</td>\n",
       "      <td>1973</td>\n",
       "      <td>100.00</td>\n",
       "      <td>95000</td>\n",
       "      <td>Zasavska</td>\n",
       "      <td>950.0</td>\n",
       "      <td>SENOVO</td>\n",
       "    </tr>\n",
       "    <tr>\n",
       "      <th>1327</th>\n",
       "      <td>SENOVO</td>\n",
       "      <td>3,5-sobno</td>\n",
       "      <td>1</td>\n",
       "      <td>1973</td>\n",
       "      <td>100.00</td>\n",
       "      <td>89000</td>\n",
       "      <td>Zasavska</td>\n",
       "      <td>890.0</td>\n",
       "      <td>SENOVO</td>\n",
       "    </tr>\n",
       "    <tr>\n",
       "      <th>1328</th>\n",
       "      <td>SEVNICA, VRHOVO</td>\n",
       "      <td>3-sobno</td>\n",
       "      <td>M</td>\n",
       "      <td>1990</td>\n",
       "      <td>73.00</td>\n",
       "      <td>71000</td>\n",
       "      <td>Zasavska</td>\n",
       "      <td>973.0</td>\n",
       "      <td>SEVNICA</td>\n",
       "    </tr>\n",
       "  </tbody>\n",
       "</table>\n",
       "<p>1329 rows × 9 columns</p>\n",
       "</div>"
      ],
      "text/plain": [
       "              lokacija      sobno nadstropje  leto  velikost    cena  \\\n",
       "0                MIRNA    3-sobno          1  2021     83.40  165132   \n",
       "1           NOVO MESTO    3-sobno          2  2023     90.68  207332   \n",
       "2           NOVO MESTO    4-sobno          5  2023    104.82  273402   \n",
       "3             ČRNOMELJ    2-sobno          4  1984     62.00   50000   \n",
       "4     ČRNOMELJ, CENTER    4-sobno          2  2014    150.00   90000   \n",
       "...                ...        ...        ...   ...       ...     ...   \n",
       "1324             KRŠKO  3,5-sobno          M  1992     88.70   59900   \n",
       "1325            SENOVO    3-sobno          1  1923     98.90   80000   \n",
       "1326            SENOVO  3,5-sobno         VP  1973    100.00   95000   \n",
       "1327            SENOVO  3,5-sobno          1  1973    100.00   89000   \n",
       "1328   SEVNICA, VRHOVO    3-sobno          M  1990     73.00   71000   \n",
       "\n",
       "         regija  cena na m2       mesto  \n",
       "0     Dolenjska      1980.0       MIRNA  \n",
       "1     Dolenjska      2286.0  NOVO MESTO  \n",
       "2     Dolenjska      2608.0  NOVO MESTO  \n",
       "3     Dolenjska       806.0    ČRNOMELJ  \n",
       "4     Dolenjska       600.0    ČRNOMELJ  \n",
       "...         ...         ...         ...  \n",
       "1324   Zasavska       675.0       KRŠKO  \n",
       "1325   Zasavska       809.0      SENOVO  \n",
       "1326   Zasavska       950.0      SENOVO  \n",
       "1327   Zasavska       890.0      SENOVO  \n",
       "1328   Zasavska       973.0     SEVNICA  \n",
       "\n",
       "[1329 rows x 9 columns]"
      ]
     },
     "execution_count": 119,
     "metadata": {},
     "output_type": "execute_result"
    }
   ],
   "source": [
    "def popravi_mesto(vnos):\n",
    "    nov_niz = ''\n",
    "    for znak in str(vnos):\n",
    "        if znak != ',':\n",
    "            nov_niz += znak\n",
    "        else:\n",
    "            break\n",
    "    return nov_niz\n",
    "\n",
    "november['mesto'] = november['lokacija'].map(lambda x: popravi_mesto(x))\n",
    "januar['mesto'] = januar['lokacija'].map(lambda x: popravi_mesto(x))\n",
    "november"
   ]
  },
  {
   "cell_type": "markdown",
   "metadata": {},
   "source": [
    "Zdaj so podatki v grobem pripravljeni za analizo.\n",
    "Najprej si poglejmo, koliko stanovanj je bilo na voljo po regijah in natančneje po mestih v januarju in novembru."
   ]
  },
  {
   "cell_type": "markdown",
   "metadata": {},
   "source": [
    "## Število nepremičnin na trgu glede na regije"
   ]
  },
  {
   "cell_type": "markdown",
   "metadata": {},
   "source": [
    "Koliko stanovanj je na voljo v posameznih regijah in razlika med meseci?"
   ]
  },
  {
   "cell_type": "code",
   "execution_count": 121,
   "metadata": {},
   "outputs": [
    {
     "data": {
      "text/html": [
       "<div>\n",
       "<style scoped>\n",
       "    .dataframe tbody tr th:only-of-type {\n",
       "        vertical-align: middle;\n",
       "    }\n",
       "\n",
       "    .dataframe tbody tr th {\n",
       "        vertical-align: top;\n",
       "    }\n",
       "\n",
       "    .dataframe thead th {\n",
       "        text-align: right;\n",
       "    }\n",
       "</style>\n",
       "<table border=\"1\" class=\"dataframe\">\n",
       "  <thead>\n",
       "    <tr style=\"text-align: right;\">\n",
       "      <th></th>\n",
       "      <th>november</th>\n",
       "      <th>januar</th>\n",
       "    </tr>\n",
       "  </thead>\n",
       "  <tbody>\n",
       "    <tr>\n",
       "      <th>Dolenjska</th>\n",
       "      <td>50</td>\n",
       "      <td>43</td>\n",
       "    </tr>\n",
       "    <tr>\n",
       "      <th>Gorenjska</th>\n",
       "      <td>109</td>\n",
       "      <td>120</td>\n",
       "    </tr>\n",
       "    <tr>\n",
       "      <th>Južna Primorska</th>\n",
       "      <td>153</td>\n",
       "      <td>154</td>\n",
       "    </tr>\n",
       "    <tr>\n",
       "      <th>Koroška</th>\n",
       "      <td>27</td>\n",
       "      <td>29</td>\n",
       "    </tr>\n",
       "    <tr>\n",
       "      <th>LJ center</th>\n",
       "      <td>620</td>\n",
       "      <td>576</td>\n",
       "    </tr>\n",
       "    <tr>\n",
       "      <th>LJ okolica</th>\n",
       "      <td>113</td>\n",
       "      <td>127</td>\n",
       "    </tr>\n",
       "    <tr>\n",
       "      <th>Posavska</th>\n",
       "      <td>22</td>\n",
       "      <td>20</td>\n",
       "    </tr>\n",
       "    <tr>\n",
       "      <th>Savinjska</th>\n",
       "      <td>202</td>\n",
       "      <td>164</td>\n",
       "    </tr>\n",
       "    <tr>\n",
       "      <th>Severna Primorska</th>\n",
       "      <td>23</td>\n",
       "      <td>24</td>\n",
       "    </tr>\n",
       "    <tr>\n",
       "      <th>Zasavska</th>\n",
       "      <td>10</td>\n",
       "      <td>13</td>\n",
       "    </tr>\n",
       "  </tbody>\n",
       "</table>\n",
       "</div>"
      ],
      "text/plain": [
       "                   november  januar\n",
       "Dolenjska                50      43\n",
       "Gorenjska               109     120\n",
       "Južna Primorska         153     154\n",
       "Koroška                  27      29\n",
       "LJ center               620     576\n",
       "LJ okolica              113     127\n",
       "Posavska                 22      20\n",
       "Savinjska               202     164\n",
       "Severna Primorska        23      24\n",
       "Zasavska                 10      13"
      ]
     },
     "execution_count": 121,
     "metadata": {},
     "output_type": "execute_result"
    }
   ],
   "source": [
    "stevilo_stanovanj_januar_regije = januar[['regija', 'mesto']].copy().groupby(by='regija').size().to_frame()\n",
    "stevilo_stanovanj_januar_regije.index.names = [None]\n",
    "stevilo_stanovanj_januar_regije = stevilo_stanovanj_januar_regije.rename(columns={0: 'januar'})\n",
    "\n",
    "stevilo_stanovanj_november_regije = november[['regija', 'mesto']].copy().groupby(by='regija').size().to_frame()\n",
    "stevilo_stanovanj_november_regije.index.names = [None]\n",
    "stevilo_stanovanj_november_regije = stevilo_stanovanj_november_regije.rename(columns={0: 'november'})\n",
    "\n",
    "df = pd.concat([stevilo_stanovanj_november_regije, stevilo_stanovanj_januar_regije], axis=1)\n",
    "df\n"
   ]
  },
  {
   "cell_type": "code",
   "execution_count": 122,
   "metadata": {},
   "outputs": [
    {
     "data": {
      "text/plain": [
       "<AxesSubplot:>"
      ]
     },
     "execution_count": 122,
     "metadata": {},
     "output_type": "execute_result"
    },
    {
     "data": {
      "image/png": "[encoded data removed]",
      "text/plain": [
       "<Figure size 432x288 with 1 Axes>"
      ]
     },
     "metadata": {
      "needs_background": "light"
     },
     "output_type": "display_data"
    }
   ],
   "source": [
    "df.plot.bar()"
   ]
  },
  {
   "cell_type": "markdown",
   "metadata": {},
   "source": [
    "Največ nepremičnin je na voljo v Ljubljani, natančneje v centru. Sledita Savinjska ter Severna Primorska. Najmanj nepremičnin je v Zasavski, Savinjski ter Koroški regiji. \n",
    "Sklep velja za oba meseca."
   ]
  },
  {
   "cell_type": "markdown",
   "metadata": {},
   "source": [
    "## Število nepremičnin po mestih"
   ]
  },
  {
   "cell_type": "code",
   "execution_count": 123,
   "metadata": {},
   "outputs": [
    {
     "data": {
      "text/html": [
       "<div>\n",
       "<style scoped>\n",
       "    .dataframe tbody tr th:only-of-type {\n",
       "        vertical-align: middle;\n",
       "    }\n",
       "\n",
       "    .dataframe tbody tr th {\n",
       "        vertical-align: top;\n",
       "    }\n",
       "\n",
       "    .dataframe thead th {\n",
       "        text-align: right;\n",
       "    }\n",
       "</style>\n",
       "<table border=\"1\" class=\"dataframe\">\n",
       "  <thead>\n",
       "    <tr style=\"text-align: right;\">\n",
       "      <th></th>\n",
       "      <th>število nepremičnin</th>\n",
       "    </tr>\n",
       "  </thead>\n",
       "  <tbody>\n",
       "    <tr>\n",
       "      <th>LJ. CENTER</th>\n",
       "      <td>150</td>\n",
       "    </tr>\n",
       "    <tr>\n",
       "      <th>LJ. BEŽIGRAD</th>\n",
       "      <td>77</td>\n",
       "    </tr>\n",
       "    <tr>\n",
       "      <th>LJ. ŠIŠKA</th>\n",
       "      <td>53</td>\n",
       "    </tr>\n",
       "    <tr>\n",
       "      <th>KRANJ</th>\n",
       "      <td>48</td>\n",
       "    </tr>\n",
       "    <tr>\n",
       "      <th>KOPER</th>\n",
       "      <td>40</td>\n",
       "    </tr>\n",
       "    <tr>\n",
       "      <th>...</th>\n",
       "      <td>...</td>\n",
       "    </tr>\n",
       "    <tr>\n",
       "      <th>NOTRANJE GORICE</th>\n",
       "      <td>1</td>\n",
       "    </tr>\n",
       "    <tr>\n",
       "      <th>MORAVSKE TOPLICE</th>\n",
       "      <td>1</td>\n",
       "    </tr>\n",
       "    <tr>\n",
       "      <th>MLAKA PRI KOČEVJU</th>\n",
       "      <td>1</td>\n",
       "    </tr>\n",
       "    <tr>\n",
       "      <th>MISLINJSKA DOBRAVA</th>\n",
       "      <td>1</td>\n",
       "    </tr>\n",
       "    <tr>\n",
       "      <th>MALO HUDO</th>\n",
       "      <td>1</td>\n",
       "    </tr>\n",
       "  </tbody>\n",
       "</table>\n",
       "<p>219 rows × 1 columns</p>\n",
       "</div>"
      ],
      "text/plain": [
       "                    število nepremičnin\n",
       "LJ. CENTER                          150\n",
       "LJ. BEŽIGRAD                         77\n",
       "LJ. ŠIŠKA                            53\n",
       "KRANJ                                48\n",
       "KOPER                                40\n",
       "...                                 ...\n",
       "NOTRANJE GORICE                       1\n",
       "MORAVSKE TOPLICE                      1\n",
       "MLAKA PRI KOČEVJU                     1\n",
       "MISLINJSKA DOBRAVA                    1\n",
       "MALO HUDO                             1\n",
       "\n",
       "[219 rows x 1 columns]"
      ]
     },
     "execution_count": 123,
     "metadata": {},
     "output_type": "execute_result"
    }
   ],
   "source": [
    "stevilo_po_mestih = januar.groupby('mesto').size().sort_values(ascending=False).to_frame()\n",
    "stevilo_po_mestih.index.names = [None]\n",
    "stevilo_po_mestih.rename(columns={0: 'število nepremičnin'})"
   ]
  },
  {
   "cell_type": "code",
   "execution_count": 124,
   "metadata": {},
   "outputs": [
    {
     "data": {
      "text/plain": [
       "<AxesSubplot:>"
      ]
     },
     "execution_count": 124,
     "metadata": {},
     "output_type": "execute_result"
    },
    {
     "data": {
      "image/png": "[encoded data removed]",
      "text/plain": [
       "<Figure size 432x288 with 1 Axes>"
      ]
     },
     "metadata": {
      "needs_background": "light"
     },
     "output_type": "display_data"
    }
   ],
   "source": [
    "stevilo_po_mestih.rename(columns={0: 'število nepremičnin'}).head(20).plot.bar()"
   ]
  },
  {
   "cell_type": "markdown",
   "metadata": {},
   "source": [
    "Kot predvideno je največ nepremičnin na voljo v Ljubljani, natančneje v centru, na Bežigradu ter Šiški. Od drugih krajev sledijo Kranj, Koper in Piran. "
   ]
  },
  {
   "cell_type": "markdown",
   "metadata": {},
   "source": [
    "## Število nepremičnin glede na leto gradnje\n",
    "\n",
    "Kako stare so nepremičnine, ki so na trgu?"
   ]
  },
  {
   "cell_type": "code",
   "execution_count": 125,
   "metadata": {},
   "outputs": [
    {
     "name": "stderr",
     "output_type": "stream",
     "text": [
      "C:\\Users\\Milka\\AppData\\Local\\Temp\\ipykernel_2864\\3879286939.py:5: UserWarning: Pandas doesn't allow columns to be created via a new attribute name - see https://pandas.pydata.org/pandas-docs/stable/indexing.html#attribute-access\n",
      "  leto_gradnje_november.names = [None]\n"
     ]
    },
    {
     "data": {
      "text/html": [
       "<div>\n",
       "<style scoped>\n",
       "    .dataframe tbody tr th:only-of-type {\n",
       "        vertical-align: middle;\n",
       "    }\n",
       "\n",
       "    .dataframe tbody tr th {\n",
       "        vertical-align: top;\n",
       "    }\n",
       "\n",
       "    .dataframe thead th {\n",
       "        text-align: right;\n",
       "    }\n",
       "</style>\n",
       "<table border=\"1\" class=\"dataframe\">\n",
       "  <thead>\n",
       "    <tr style=\"text-align: right;\">\n",
       "      <th></th>\n",
       "      <th>november</th>\n",
       "      <th>januar</th>\n",
       "    </tr>\n",
       "  </thead>\n",
       "  <tbody>\n",
       "    <tr>\n",
       "      <th>1826</th>\n",
       "      <td>2.0</td>\n",
       "      <td>1.0</td>\n",
       "    </tr>\n",
       "    <tr>\n",
       "      <th>1830</th>\n",
       "      <td>2.0</td>\n",
       "      <td>2.0</td>\n",
       "    </tr>\n",
       "    <tr>\n",
       "      <th>1833</th>\n",
       "      <td>NaN</td>\n",
       "      <td>2.0</td>\n",
       "    </tr>\n",
       "    <tr>\n",
       "      <th>1840</th>\n",
       "      <td>1.0</td>\n",
       "      <td>3.0</td>\n",
       "    </tr>\n",
       "    <tr>\n",
       "      <th>1843</th>\n",
       "      <td>1.0</td>\n",
       "      <td>2.0</td>\n",
       "    </tr>\n",
       "    <tr>\n",
       "      <th>...</th>\n",
       "      <td>...</td>\n",
       "      <td>...</td>\n",
       "    </tr>\n",
       "    <tr>\n",
       "      <th>2019</th>\n",
       "      <td>12.0</td>\n",
       "      <td>16.0</td>\n",
       "    </tr>\n",
       "    <tr>\n",
       "      <th>2020</th>\n",
       "      <td>50.0</td>\n",
       "      <td>30.0</td>\n",
       "    </tr>\n",
       "    <tr>\n",
       "      <th>2021</th>\n",
       "      <td>114.0</td>\n",
       "      <td>110.0</td>\n",
       "    </tr>\n",
       "    <tr>\n",
       "      <th>2022</th>\n",
       "      <td>40.0</td>\n",
       "      <td>55.0</td>\n",
       "    </tr>\n",
       "    <tr>\n",
       "      <th>2023</th>\n",
       "      <td>7.0</td>\n",
       "      <td>7.0</td>\n",
       "    </tr>\n",
       "  </tbody>\n",
       "</table>\n",
       "<p>153 rows × 2 columns</p>\n",
       "</div>"
      ],
      "text/plain": [
       "      november  januar\n",
       "1826       2.0     1.0\n",
       "1830       2.0     2.0\n",
       "1833       NaN     2.0\n",
       "1840       1.0     3.0\n",
       "1843       1.0     2.0\n",
       "...        ...     ...\n",
       "2019      12.0    16.0\n",
       "2020      50.0    30.0\n",
       "2021     114.0   110.0\n",
       "2022      40.0    55.0\n",
       "2023       7.0     7.0\n",
       "\n",
       "[153 rows x 2 columns]"
      ]
     },
     "execution_count": 125,
     "metadata": {},
     "output_type": "execute_result"
    }
   ],
   "source": [
    "leto_gradnje_januar = januar[januar.leto > 1800].groupby(by='leto').size().to_frame()\n",
    "leto_gradnje_januar.index.names = [None]\n",
    "leto_gradnje_januar = leto_gradnje_januar.rename(columns={0: 'januar'})\n",
    "leto_gradnje_november = november[november.leto > 1800].groupby(by='leto').size().to_frame()\n",
    "leto_gradnje_november.names = [None]\n",
    "leto_gradnje_november = leto_gradnje_november.rename(columns={0: 'november'})\n",
    "\n",
    "leto_število = pd.concat([leto_gradnje_november, leto_gradnje_januar], axis=1)\n",
    "leto_število.sort_index(ascending=True)\n",
    "leto_število"
   ]
  },
  {
   "cell_type": "code",
   "execution_count": 126,
   "metadata": {},
   "outputs": [
    {
     "data": {
      "text/plain": [
       "<AxesSubplot:>"
      ]
     },
     "execution_count": 126,
     "metadata": {},
     "output_type": "execute_result"
    },
    {
     "data": {
      "image/png": "[encoded data removed]",
      "text/plain": [
       "<Figure size 432x288 with 1 Axes>"
      ]
     },
     "metadata": {
      "needs_background": "light"
     },
     "output_type": "display_data"
    }
   ],
   "source": [
    "leto_število.plot()"
   ]
  },
  {
   "cell_type": "markdown",
   "metadata": {},
   "source": [
    "## Število nepremičnin glede na velikost\n",
    "\n",
    "Katerih nepremičnin (glede na velikost) je na trgu največ?"
   ]
  },
  {
   "cell_type": "code",
   "execution_count": 127,
   "metadata": {},
   "outputs": [
    {
     "name": "stderr",
     "output_type": "stream",
     "text": [
      "C:\\Users\\Milka\\AppData\\Local\\Temp\\ipykernel_2864\\595577574.py:6: UserWarning: Pandas doesn't allow columns to be created via a new attribute name - see https://pandas.pydata.org/pandas-docs/stable/indexing.html#attribute-access\n",
      "  površina_november.names = [None]\n"
     ]
    },
    {
     "data": {
      "text/plain": [
       "<AxesSubplot:>"
      ]
     },
     "execution_count": 127,
     "metadata": {},
     "output_type": "execute_result"
    },
    {
     "data": {
      "image/png": "[encoded data removed]",
      "text/plain": [
       "<Figure size 432x288 with 1 Axes>"
      ]
     },
     "metadata": {
      "needs_background": "light"
     },
     "output_type": "display_data"
    }
   ],
   "source": [
    "površina_januar = januar[januar.velikost < 300].groupby(by='velikost').size().to_frame()\n",
    "površina_januar.index.names = [None]\n",
    "površina_januar = površina_januar.rename(columns={0: 'januar'})\n",
    "\n",
    "površina_november = november[november.velikost < 300].groupby(by='velikost').size().to_frame()\n",
    "površina_november.names = [None]\n",
    "površina_november = površina_november.rename(columns={0: 'november'})\n",
    "\n",
    "leto_število = pd.concat([površina_januar, površina_november], axis=1)\n",
    "leto_število.sort_index(ascending=True)\n",
    "leto_število.plot()"
   ]
  },
  {
   "cell_type": "markdown",
   "metadata": {},
   "source": [
    "## Povprečna cena kvadratnega metra glede na regijo"
   ]
  },
  {
   "cell_type": "markdown",
   "metadata": {},
   "source": [
    "Za vsako izmed regij izračunam povprečno ceno na kvadrat."
   ]
  },
  {
   "cell_type": "code",
   "execution_count": 128,
   "metadata": {},
   "outputs": [
    {
     "data": {
      "text/html": [
       "<div>\n",
       "<style scoped>\n",
       "    .dataframe tbody tr th:only-of-type {\n",
       "        vertical-align: middle;\n",
       "    }\n",
       "\n",
       "    .dataframe tbody tr th {\n",
       "        vertical-align: top;\n",
       "    }\n",
       "\n",
       "    .dataframe thead th {\n",
       "        text-align: right;\n",
       "    }\n",
       "</style>\n",
       "<table border=\"1\" class=\"dataframe\">\n",
       "  <thead>\n",
       "    <tr style=\"text-align: right;\">\n",
       "      <th></th>\n",
       "      <th>november</th>\n",
       "      <th>januar</th>\n",
       "    </tr>\n",
       "  </thead>\n",
       "  <tbody>\n",
       "    <tr>\n",
       "      <th>Dolenjska</th>\n",
       "      <td>1470.0</td>\n",
       "      <td>1522.0</td>\n",
       "    </tr>\n",
       "    <tr>\n",
       "      <th>Gorenjska</th>\n",
       "      <td>2748.0</td>\n",
       "      <td>2941.0</td>\n",
       "    </tr>\n",
       "    <tr>\n",
       "      <th>Južna Primorska</th>\n",
       "      <td>3603.0</td>\n",
       "      <td>3768.0</td>\n",
       "    </tr>\n",
       "    <tr>\n",
       "      <th>Koroška</th>\n",
       "      <td>1371.0</td>\n",
       "      <td>1579.0</td>\n",
       "    </tr>\n",
       "    <tr>\n",
       "      <th>LJ center</th>\n",
       "      <td>3725.0</td>\n",
       "      <td>3859.0</td>\n",
       "    </tr>\n",
       "    <tr>\n",
       "      <th>LJ okolica</th>\n",
       "      <td>2518.0</td>\n",
       "      <td>2588.0</td>\n",
       "    </tr>\n",
       "    <tr>\n",
       "      <th>Posavska</th>\n",
       "      <td>1151.0</td>\n",
       "      <td>1750.0</td>\n",
       "    </tr>\n",
       "    <tr>\n",
       "      <th>Savinjska</th>\n",
       "      <td>1600.0</td>\n",
       "      <td>1746.0</td>\n",
       "    </tr>\n",
       "    <tr>\n",
       "      <th>Severna Primorska</th>\n",
       "      <td>1452.0</td>\n",
       "      <td>1437.0</td>\n",
       "    </tr>\n",
       "    <tr>\n",
       "      <th>Zasavska</th>\n",
       "      <td>1167.0</td>\n",
       "      <td>1261.0</td>\n",
       "    </tr>\n",
       "  </tbody>\n",
       "</table>\n",
       "</div>"
      ],
      "text/plain": [
       "                   november  januar\n",
       "Dolenjska            1470.0  1522.0\n",
       "Gorenjska            2748.0  2941.0\n",
       "Južna Primorska      3603.0  3768.0\n",
       "Koroška              1371.0  1579.0\n",
       "LJ center            3725.0  3859.0\n",
       "LJ okolica           2518.0  2588.0\n",
       "Posavska             1151.0  1750.0\n",
       "Savinjska            1600.0  1746.0\n",
       "Severna Primorska    1452.0  1437.0\n",
       "Zasavska             1167.0  1261.0"
      ]
     },
     "execution_count": 128,
     "metadata": {},
     "output_type": "execute_result"
    }
   ],
   "source": [
    "cena_regije_januar = januar[['regija','cena na m2']].groupby('regija').mean().round()\n",
    "cena_regije_januar.index.names = [None]\n",
    "cena_regije_januar = cena_regije_januar.rename(columns={'cena na m2': 'januar'})\n",
    "\n",
    "cena_regije_november = november[['regija','cena na m2']].groupby('regija').mean().round()\n",
    "cena_regije_november.index.names = [None]\n",
    "cena_regije_november = cena_regije_november.rename(columns={'cena na m2': 'november'})\n",
    "\n",
    "df_regije_cena = pd.concat([cena_regije_november, cena_regije_januar], axis=1)\n",
    "df_regije_cena\n"
   ]
  },
  {
   "cell_type": "code",
   "execution_count": 129,
   "metadata": {},
   "outputs": [
    {
     "data": {
      "text/plain": [
       "<AxesSubplot:>"
      ]
     },
     "execution_count": 129,
     "metadata": {},
     "output_type": "execute_result"
    },
    {
     "data": {
      "image/png": "[encoded data removed]",
      "text/plain": [
       "<Figure size 432x288 with 1 Axes>"
      ]
     },
     "metadata": {
      "needs_background": "light"
     },
     "output_type": "display_data"
    }
   ],
   "source": [
    "df_regije_cena.plot.bar()"
   ]
  },
  {
   "cell_type": "markdown",
   "metadata": {},
   "source": [
    "Cene nepremičnin so se povečale v vseh regijah, razen v Severni Primorski regiji."
   ]
  },
  {
   "cell_type": "markdown",
   "metadata": {},
   "source": [
    "## Povprečna cena kavdratnega metra glede na mesto"
   ]
  },
  {
   "cell_type": "code",
   "execution_count": 130,
   "metadata": {},
   "outputs": [
    {
     "data": {
      "text/html": [
       "<div>\n",
       "<style scoped>\n",
       "    .dataframe tbody tr th:only-of-type {\n",
       "        vertical-align: middle;\n",
       "    }\n",
       "\n",
       "    .dataframe tbody tr th {\n",
       "        vertical-align: top;\n",
       "    }\n",
       "\n",
       "    .dataframe thead th {\n",
       "        text-align: right;\n",
       "    }\n",
       "</style>\n",
       "<table border=\"1\" class=\"dataframe\">\n",
       "  <thead>\n",
       "    <tr style=\"text-align: right;\">\n",
       "      <th></th>\n",
       "      <th>november</th>\n",
       "      <th>januar</th>\n",
       "    </tr>\n",
       "  </thead>\n",
       "  <tbody>\n",
       "    <tr>\n",
       "      <th>KOLEZIJA</th>\n",
       "      <td>5851.0</td>\n",
       "      <td>5851.0</td>\n",
       "    </tr>\n",
       "    <tr>\n",
       "      <th>KRANJSKA GORA</th>\n",
       "      <td>5505.0</td>\n",
       "      <td>5458.0</td>\n",
       "    </tr>\n",
       "    <tr>\n",
       "      <th>RADOHOVA VAS</th>\n",
       "      <td>NaN</td>\n",
       "      <td>5139.0</td>\n",
       "    </tr>\n",
       "    <tr>\n",
       "      <th>BROD</th>\n",
       "      <td>4379.0</td>\n",
       "      <td>4936.0</td>\n",
       "    </tr>\n",
       "    <tr>\n",
       "      <th>PORTOROŽ</th>\n",
       "      <td>4637.0</td>\n",
       "      <td>4586.0</td>\n",
       "    </tr>\n",
       "    <tr>\n",
       "      <th>...</th>\n",
       "      <td>...</td>\n",
       "      <td>...</td>\n",
       "    </tr>\n",
       "    <tr>\n",
       "      <th>ČRNOMELJ</th>\n",
       "      <td>717.0</td>\n",
       "      <td>NaN</td>\n",
       "    </tr>\n",
       "    <tr>\n",
       "      <th>ŠENTJAKOB</th>\n",
       "      <td>2558.0</td>\n",
       "      <td>NaN</td>\n",
       "    </tr>\n",
       "    <tr>\n",
       "      <th>ŠENTVID PRI STIČNI</th>\n",
       "      <td>1875.0</td>\n",
       "      <td>NaN</td>\n",
       "    </tr>\n",
       "    <tr>\n",
       "      <th>ŠENČUR</th>\n",
       "      <td>3490.0</td>\n",
       "      <td>NaN</td>\n",
       "    </tr>\n",
       "    <tr>\n",
       "      <th>ŠMIHEL POD NANOSOM</th>\n",
       "      <td>582.0</td>\n",
       "      <td>NaN</td>\n",
       "    </tr>\n",
       "  </tbody>\n",
       "</table>\n",
       "<p>271 rows × 2 columns</p>\n",
       "</div>"
      ],
      "text/plain": [
       "                    november  januar\n",
       "KOLEZIJA              5851.0  5851.0\n",
       "KRANJSKA GORA         5505.0  5458.0\n",
       "RADOHOVA VAS             NaN  5139.0\n",
       "BROD                  4379.0  4936.0\n",
       "PORTOROŽ              4637.0  4586.0\n",
       "...                      ...     ...\n",
       "ČRNOMELJ               717.0     NaN\n",
       "ŠENTJAKOB             2558.0     NaN\n",
       "ŠENTVID PRI STIČNI    1875.0     NaN\n",
       "ŠENČUR                3490.0     NaN\n",
       "ŠMIHEL POD NANOSOM     582.0     NaN\n",
       "\n",
       "[271 rows x 2 columns]"
      ]
     },
     "execution_count": 130,
     "metadata": {},
     "output_type": "execute_result"
    }
   ],
   "source": [
    "cena_regije_januar = januar[['mesto','cena na m2']].groupby('mesto').mean().round()\n",
    "cena_regije_januar.index.names = [None]\n",
    "cena_regije_januar = cena_regije_januar.rename(columns={'cena na m2': 'januar'})\n",
    "cena_regije_januar\n",
    "\n",
    "cena_regije_november = november[['mesto','cena na m2']].groupby('mesto').mean().round()\n",
    "cena_regije_november.index.names = [None]\n",
    "cena_regije_november = cena_regije_november.rename(columns={'cena na m2': 'november'})\n",
    "\n",
    "df_regije_cena = pd.concat([cena_regije_november, cena_regije_januar], axis=1)\n",
    "df_regije_cena.sort_values(by='januar', ascending=False)"
   ]
  },
  {
   "cell_type": "markdown",
   "metadata": {},
   "source": [
    "## Cena nepremičnine v odvisnosti od leta gradnje\n",
    "\n",
    "Ali so novejše nepremičnine dražje od starejših?"
   ]
  },
  {
   "cell_type": "code",
   "execution_count": 131,
   "metadata": {},
   "outputs": [
    {
     "data": {
      "text/plain": [
       "<AxesSubplot:xlabel='leto', ylabel='cena na m2'>"
      ]
     },
     "execution_count": 131,
     "metadata": {},
     "output_type": "execute_result"
    },
    {
     "data": {
      "image/png": "[encoded data removed]",
      "text/plain": [
       "<Figure size 432x288 with 1 Axes>"
      ]
     },
     "metadata": {
      "needs_background": "light"
     },
     "output_type": "display_data"
    }
   ],
   "source": [
    "januar[januar.leto > 1400].plot.scatter('leto','cena na m2')"
   ]
  },
  {
   "cell_type": "code",
   "execution_count": 132,
   "metadata": {},
   "outputs": [
    {
     "data": {
      "text/plain": [
       "<AxesSubplot:xlabel='leto', ylabel='cena na m2'>"
      ]
     },
     "execution_count": 132,
     "metadata": {},
     "output_type": "execute_result"
    },
    {
     "data": {
      "image/png": "[encoded data removed]",
      "text/plain": [
       "<Figure size 432x288 with 1 Axes>"
      ]
     },
     "metadata": {
      "needs_background": "light"
     },
     "output_type": "display_data"
    }
   ],
   "source": [
    "januar[januar.leto > 1900].plot.scatter('leto','cena na m2')"
   ]
  },
  {
   "cell_type": "markdown",
   "metadata": {},
   "source": [
    "V podatkih ni razvidnega vzorca med ceno stanovanja ter letom gradnje."
   ]
  },
  {
   "cell_type": "markdown",
   "metadata": {},
   "source": [
    "## Cena nepremičnin v odvisnosti od njihove velikosti"
   ]
  },
  {
   "cell_type": "code",
   "execution_count": 133,
   "metadata": {},
   "outputs": [
    {
     "data": {
      "text/plain": [
       "<AxesSubplot:xlabel='velikost', ylabel='cena'>"
      ]
     },
     "execution_count": 133,
     "metadata": {},
     "output_type": "execute_result"
    },
    {
     "data": {
      "image/png": "[encoded data removed]",
      "text/plain": [
       "<Figure size 432x288 with 1 Axes>"
      ]
     },
     "metadata": {
      "needs_background": "light"
     },
     "output_type": "display_data"
    }
   ],
   "source": [
    "januar.plot.scatter('velikost','cena')"
   ]
  },
  {
   "cell_type": "markdown",
   "metadata": {},
   "source": [
    "Cena se pričakovano sorazmerno zvišuje s velikostjo."
   ]
  },
  {
   "cell_type": "markdown",
   "metadata": {},
   "source": [
    "## Število nepremičnin glede na št. sob"
   ]
  },
  {
   "cell_type": "code",
   "execution_count": 134,
   "metadata": {},
   "outputs": [
    {
     "name": "stderr",
     "output_type": "stream",
     "text": [
      "C:\\Users\\Milka\\AppData\\Local\\Temp\\ipykernel_2864\\831590534.py:3: SettingWithCopyWarning: \n",
      "A value is trying to be set on a copy of a slice from a DataFrame.\n",
      "Try using .loc[row_indexer,col_indexer] = value instead\n",
      "\n",
      "See the caveats in the documentation: https://pandas.pydata.org/pandas-docs/stable/user_guide/indexing.html#returning-a-view-versus-a-copy\n",
      "  sobe_januar['sobno'] = pd.Categorical(sobe_januar['sobno'],  categories= po_velikosti)\n",
      "C:\\Users\\Milka\\AppData\\Local\\Temp\\ipykernel_2864\\831590534.py:9: SettingWithCopyWarning: \n",
      "A value is trying to be set on a copy of a slice from a DataFrame.\n",
      "Try using .loc[row_indexer,col_indexer] = value instead\n",
      "\n",
      "See the caveats in the documentation: https://pandas.pydata.org/pandas-docs/stable/user_guide/indexing.html#returning-a-view-versus-a-copy\n",
      "  sobe_november['sobno'] = pd.Categorical(sobe_november['sobno'],  categories= po_velikosti)\n"
     ]
    },
    {
     "data": {
      "text/html": [
       "<div>\n",
       "<style scoped>\n",
       "    .dataframe tbody tr th:only-of-type {\n",
       "        vertical-align: middle;\n",
       "    }\n",
       "\n",
       "    .dataframe tbody tr th {\n",
       "        vertical-align: top;\n",
       "    }\n",
       "\n",
       "    .dataframe thead th {\n",
       "        text-align: right;\n",
       "    }\n",
       "</style>\n",
       "<table border=\"1\" class=\"dataframe\">\n",
       "  <thead>\n",
       "    <tr style=\"text-align: right;\">\n",
       "      <th></th>\n",
       "      <th>november</th>\n",
       "      <th>januar</th>\n",
       "    </tr>\n",
       "  </thead>\n",
       "  <tbody>\n",
       "    <tr>\n",
       "      <th>Soba</th>\n",
       "      <td>1</td>\n",
       "      <td>3</td>\n",
       "    </tr>\n",
       "    <tr>\n",
       "      <th>Garsonjera</th>\n",
       "      <td>38</td>\n",
       "      <td>34</td>\n",
       "    </tr>\n",
       "    <tr>\n",
       "      <th>1-sobno</th>\n",
       "      <td>50</td>\n",
       "      <td>65</td>\n",
       "    </tr>\n",
       "    <tr>\n",
       "      <th>1,5-sobno</th>\n",
       "      <td>36</td>\n",
       "      <td>37</td>\n",
       "    </tr>\n",
       "    <tr>\n",
       "      <th>2-sobno</th>\n",
       "      <td>251</td>\n",
       "      <td>255</td>\n",
       "    </tr>\n",
       "    <tr>\n",
       "      <th>...</th>\n",
       "      <td>...</td>\n",
       "      <td>...</td>\n",
       "    </tr>\n",
       "    <tr>\n",
       "      <th>3-sobno</th>\n",
       "      <td>392</td>\n",
       "      <td>358</td>\n",
       "    </tr>\n",
       "    <tr>\n",
       "      <th>3,5-sobno</th>\n",
       "      <td>60</td>\n",
       "      <td>50</td>\n",
       "    </tr>\n",
       "    <tr>\n",
       "      <th>4-sobno</th>\n",
       "      <td>298</td>\n",
       "      <td>263</td>\n",
       "    </tr>\n",
       "    <tr>\n",
       "      <th>5 in večsobno</th>\n",
       "      <td>82</td>\n",
       "      <td>88</td>\n",
       "    </tr>\n",
       "    <tr>\n",
       "      <th>Drugo</th>\n",
       "      <td>9</td>\n",
       "      <td>11</td>\n",
       "    </tr>\n",
       "  </tbody>\n",
       "</table>\n",
       "<p>11 rows × 2 columns</p>\n",
       "</div>"
      ],
      "text/plain": [
       "               november  januar\n",
       "Soba                  1       3\n",
       "Garsonjera           38      34\n",
       "1-sobno              50      65\n",
       "1,5-sobno            36      37\n",
       "2-sobno             251     255\n",
       "...                 ...     ...\n",
       "3-sobno             392     358\n",
       "3,5-sobno            60      50\n",
       "4-sobno             298     263\n",
       "5 in večsobno        82      88\n",
       "Drugo                 9      11\n",
       "\n",
       "[11 rows x 2 columns]"
      ]
     },
     "execution_count": 134,
     "metadata": {},
     "output_type": "execute_result"
    }
   ],
   "source": [
    "po_velikosti = ['Soba', 'Garsonjera', '1-sobno', '1,5-sobno', '2-sobno', '2,5-sobno', '3-sobno', '3,5-sobno', '4-sobno', '5 in večsobno', 'Drugo']\n",
    "sobe_januar = januar[['sobno']]\n",
    "sobe_januar['sobno'] = pd.Categorical(sobe_januar['sobno'],  categories= po_velikosti)\n",
    "sobe_januar = sobe_januar.groupby(by='sobno').size().to_frame()\n",
    "sobe_januar.index.names = [None]\n",
    "sobe_januar = sobe_januar.rename(columns={0: 'januar'})\n",
    "\n",
    "sobe_november = november[['sobno']]\n",
    "sobe_november['sobno'] = pd.Categorical(sobe_november['sobno'],  categories= po_velikosti)\n",
    "sobe_november = sobe_november.groupby(by='sobno').size().to_frame()\n",
    "sobe_november.index.names = [None]\n",
    "sobe_november = sobe_november.rename(columns={0: 'november'})\n",
    "\n",
    "sobe = pd.concat([sobe_november, sobe_januar], axis=1)\n",
    "sobe\n"
   ]
  },
  {
   "cell_type": "code",
   "execution_count": 135,
   "metadata": {},
   "outputs": [
    {
     "data": {
      "text/plain": [
       "<AxesSubplot:>"
      ]
     },
     "execution_count": 135,
     "metadata": {},
     "output_type": "execute_result"
    },
    {
     "data": {
      "image/png": "[encoded data removed]",
      "text/plain": [
       "<Figure size 432x288 with 1 Axes>"
      ]
     },
     "metadata": {
      "needs_background": "light"
     },
     "output_type": "display_data"
    }
   ],
   "source": [
    "sobe.plot.bar()"
   ]
  },
  {
   "cell_type": "markdown",
   "metadata": {},
   "source": [
    "Največ nepremičnin na trgu je 2-, 3-, in 4-sobnih."
   ]
  },
  {
   "cell_type": "markdown",
   "metadata": {},
   "source": [
    "## Povezava med starostjo stanovanj ter regijami\n",
    "\n",
    "V katerih regijah so nepremičnine najstarejše? Kje je največ novogradnje?"
   ]
  },
  {
   "cell_type": "markdown",
   "metadata": {},
   "source": [
    "Izračunam povprečno starost nepremičnin za posamezno regijo."
   ]
  },
  {
   "cell_type": "code",
   "execution_count": 136,
   "metadata": {},
   "outputs": [
    {
     "data": {
      "text/html": [
       "<div>\n",
       "<style scoped>\n",
       "    .dataframe tbody tr th:only-of-type {\n",
       "        vertical-align: middle;\n",
       "    }\n",
       "\n",
       "    .dataframe tbody tr th {\n",
       "        vertical-align: top;\n",
       "    }\n",
       "\n",
       "    .dataframe thead th {\n",
       "        text-align: right;\n",
       "    }\n",
       "</style>\n",
       "<table border=\"1\" class=\"dataframe\">\n",
       "  <thead>\n",
       "    <tr style=\"text-align: right;\">\n",
       "      <th></th>\n",
       "      <th>leto</th>\n",
       "    </tr>\n",
       "    <tr>\n",
       "      <th>regija</th>\n",
       "      <th></th>\n",
       "    </tr>\n",
       "  </thead>\n",
       "  <tbody>\n",
       "    <tr>\n",
       "      <th>Dolenjska</th>\n",
       "      <td>1974.0</td>\n",
       "    </tr>\n",
       "    <tr>\n",
       "      <th>Gorenjska</th>\n",
       "      <td>1962.0</td>\n",
       "    </tr>\n",
       "    <tr>\n",
       "      <th>Južna Primorska</th>\n",
       "      <td>1956.0</td>\n",
       "    </tr>\n",
       "    <tr>\n",
       "      <th>Koroška</th>\n",
       "      <td>2002.0</td>\n",
       "    </tr>\n",
       "    <tr>\n",
       "      <th>LJ center</th>\n",
       "      <td>1941.0</td>\n",
       "    </tr>\n",
       "    <tr>\n",
       "      <th>LJ okolica</th>\n",
       "      <td>1987.0</td>\n",
       "    </tr>\n",
       "    <tr>\n",
       "      <th>Posavska</th>\n",
       "      <td>1980.0</td>\n",
       "    </tr>\n",
       "    <tr>\n",
       "      <th>Savinjska</th>\n",
       "      <td>1965.0</td>\n",
       "    </tr>\n",
       "    <tr>\n",
       "      <th>Severna Primorska</th>\n",
       "      <td>2001.0</td>\n",
       "    </tr>\n",
       "    <tr>\n",
       "      <th>Zasavska</th>\n",
       "      <td>1971.0</td>\n",
       "    </tr>\n",
       "  </tbody>\n",
       "</table>\n",
       "</div>"
      ],
      "text/plain": [
       "                     leto\n",
       "regija                   \n",
       "Dolenjska          1974.0\n",
       "Gorenjska          1962.0\n",
       "Južna Primorska    1956.0\n",
       "Koroška            2002.0\n",
       "LJ center          1941.0\n",
       "LJ okolica         1987.0\n",
       "Posavska           1980.0\n",
       "Savinjska          1965.0\n",
       "Severna Primorska  2001.0\n",
       "Zasavska           1971.0"
      ]
     },
     "execution_count": 136,
     "metadata": {},
     "output_type": "execute_result"
    }
   ],
   "source": [
    "povprecna_starost = januar[['regija','leto']]\n",
    "povprecna_starost.groupby('regija').mean().round()"
   ]
  },
  {
   "cell_type": "markdown",
   "metadata": {},
   "source": [
    "## Analiza nepremičnin, ki so na trgu dlje časa\n",
    "\n",
    "Za podatke iz novembra in januarja poiščem ponavljajoče se oglase in jih shranim v novo tabelo. V čem nepremičnine, ki so na trgu dlje časa (vsaj 3 mesece), odstopajo od drugih?"
   ]
  },
  {
   "cell_type": "code",
   "execution_count": 137,
   "metadata": {},
   "outputs": [
    {
     "name": "stderr",
     "output_type": "stream",
     "text": [
      "C:\\Users\\Milka\\AppData\\Local\\Temp\\ipykernel_2864\\2405918827.py:4: FutureWarning: Dropping of nuisance columns in DataFrame reductions (with 'numeric_only=None') is deprecated; in a future version this will raise TypeError.  Select only valid columns before calling the reduction.\n",
      "  povprecje_ponovitve = skupno[skupno.ponovljeno == True].drop_duplicates().drop(columns='ponovljeno').mean().round().to_frame().rename(columns={0: 'ponovitve povprečje'})\n",
      "C:\\Users\\Milka\\AppData\\Local\\Temp\\ipykernel_2864\\2405918827.py:5: FutureWarning: Dropping of nuisance columns in DataFrame reductions (with 'numeric_only=None') is deprecated; in a future version this will raise TypeError.  Select only valid columns before calling the reduction.\n",
      "  povprecje_januar = januar.mean().round().to_frame().rename(columns={0: 'januar povprečje'})\n",
      "C:\\Users\\Milka\\AppData\\Local\\Temp\\ipykernel_2864\\2405918827.py:6: FutureWarning: Dropping of nuisance columns in DataFrame reductions (with 'numeric_only=None') is deprecated; in a future version this will raise TypeError.  Select only valid columns before calling the reduction.\n",
      "  povprecje_november = november.mean().round().to_frame().rename(columns={0: 'november povprečje'})\n"
     ]
    },
    {
     "data": {
      "text/html": [
       "<div>\n",
       "<style scoped>\n",
       "    .dataframe tbody tr th:only-of-type {\n",
       "        vertical-align: middle;\n",
       "    }\n",
       "\n",
       "    .dataframe tbody tr th {\n",
       "        vertical-align: top;\n",
       "    }\n",
       "\n",
       "    .dataframe thead th {\n",
       "        text-align: right;\n",
       "    }\n",
       "</style>\n",
       "<table border=\"1\" class=\"dataframe\">\n",
       "  <thead>\n",
       "    <tr style=\"text-align: right;\">\n",
       "      <th></th>\n",
       "      <th>november povprečje</th>\n",
       "      <th>januar povprečje</th>\n",
       "      <th>ponovitve povprečje</th>\n",
       "    </tr>\n",
       "  </thead>\n",
       "  <tbody>\n",
       "    <tr>\n",
       "      <th>leto</th>\n",
       "      <td>1961.0</td>\n",
       "      <td>1957.0</td>\n",
       "      <td>1947.0</td>\n",
       "    </tr>\n",
       "    <tr>\n",
       "      <th>velikost</th>\n",
       "      <td>99.0</td>\n",
       "      <td>99.0</td>\n",
       "      <td>112.0</td>\n",
       "    </tr>\n",
       "    <tr>\n",
       "      <th>cena</th>\n",
       "      <td>286965.0</td>\n",
       "      <td>298718.0</td>\n",
       "      <td>342206.0</td>\n",
       "    </tr>\n",
       "    <tr>\n",
       "      <th>cena na m2</th>\n",
       "      <td>2971.0</td>\n",
       "      <td>3125.0</td>\n",
       "      <td>3107.0</td>\n",
       "    </tr>\n",
       "  </tbody>\n",
       "</table>\n",
       "</div>"
      ],
      "text/plain": [
       "            november povprečje  januar povprečje  ponovitve povprečje\n",
       "leto                    1961.0            1957.0               1947.0\n",
       "velikost                  99.0              99.0                112.0\n",
       "cena                  286965.0          298718.0             342206.0\n",
       "cena na m2              2971.0            3125.0               3107.0"
      ]
     },
     "execution_count": 137,
     "metadata": {},
     "output_type": "execute_result"
    }
   ],
   "source": [
    "skupno = pd.concat([november, januar])\n",
    "skupno['ponovljeno'] = skupno.duplicated(subset=['lokacija', 'sobno','nadstropje', 'leto', 'velikost', 'regija', 'mesto'])\n",
    "\n",
    "povprecje_ponovitve = skupno[skupno.ponovljeno == True].drop_duplicates().drop(columns='ponovljeno').mean().round().to_frame().rename(columns={0: 'ponovitve povprečje'})\n",
    "povprecje_januar = januar.mean().round().to_frame().rename(columns={0: 'januar povprečje'})\n",
    "povprecje_november = november.mean().round().to_frame().rename(columns={0: 'november povprečje'})\n",
    "df_regije_cena = pd.concat([povprecje_november, povprecje_januar, povprecje_ponovitve], axis=1)\n",
    "df_regije_cena"
   ]
  },
  {
   "cell_type": "markdown",
   "metadata": {},
   "source": [
    "Nepremičnine, ki se prodajajo dlje časa so v povprečju starejša, večja ter dražja od tistih, ki so se prodale v manj kot 3-h mesecih. Vendar pa cena na kvadratni meter teh ne odstopa."
   ]
  },
  {
   "cell_type": "markdown",
   "metadata": {},
   "source": [
    "## Zaključek:"
   ]
  },
  {
   "cell_type": "markdown",
   "metadata": {},
   "source": [
    "Ugotovila sem:\n",
    "- Nepremičnin je največ v Ljubljani in najmanj v Zasavski, Posavski, Koroški ter Severno Primorski regiji. To drži tako za mesec november kot januar.\n",
    "- Stanovanja so najdražja v Ljubljani - center, sledita Južna Primorska ter Gorenjska. \n",
    "- Najpogosteje se prodajajo nepremičnine velikosti 50-100 kvadratnih metrov.\n",
    "- Primerjava med meseci in po regijah je pokazala, da so se nepremičnine podražile v vseh regijah, razen v eni.\n",
    "- Očitno so večja stanovanja tudi dražja, medtem ko jasne povezave med letom gradnje in ceno ni bilo. To gre najbrž pripisati dejstvu, da so zajeti podatki obsegali le leto gradnje, ne pa tudi leto obnove, torej leto gradnje ne odraža ohranjenosti nepremičnine.\n",
    "- Če se dražja stanovanja (v smislu cene na kvadratni meter) prodajajo dlje nisem mogla sklepati. Stanovanja, ki se prodajajo dlje časa so v povprečju starejša in večja, ter zato posledično dražja (v smislu cele nepremičnine).\n",
    "\n",
    "Ker zajet opis nepremičnin ni bil koristen, zato sem to analizo ključnih lastnosti opustila.\n",
    "\n",
    "Žal sem podatke zajela le za dva meseca, zanimiva bi bila podobna analiza za vse mesece v letu, morda tudi primerjava z drugimi državami. V tem primeru bi ponavljajoče se vrstice bilo dobro zapisati v funkcije."
   ]
  }
 ],
 "metadata": {
  "interpreter": {
   "hash": "23393d2575091a37cff0d0e9e7479591a295495b26c3b2ebf9b64da572e02d85"
  },
  "kernelspec": {
   "display_name": "Python 3.8.7 64-bit",
   "language": "python",
   "name": "python3"
  },
  "language_info": {
   "codemirror_mode": {
    "name": "ipython",
    "version": 3
   },
   "file_extension": ".py",
   "mimetype": "text/x-python",
   "name": "python",
   "nbconvert_exporter": "python",
   "pygments_lexer": "ipython3",
   "version": "3.9.7"
  },
  "orig_nbformat": 4
 },
 "nbformat": 4,
 "nbformat_minor": 2
}

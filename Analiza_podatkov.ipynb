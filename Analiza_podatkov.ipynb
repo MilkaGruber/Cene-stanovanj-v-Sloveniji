{
 "cells": [
  {
   "cell_type": "markdown",
   "metadata": {},
   "source": [
    "# Analiza podatkov - Cene stanovanj v Sloveniji\n",
    "\n"
   ]
  },
  {
   "cell_type": "markdown",
   "metadata": {},
   "source": [
    "## Projektna naloga pri predmetu Programiranje 1\n",
    "\n",
    "Naloga obsega analizo podatkov o nepremičninah, ki so naprodaj v Sloveniji, pridobljenih iz spletne strani www.nepremicnine.net/ v mesecu novembru 2021 ter januarju 2022.\n",
    "\n",
    "Za posamezne regije oz. območja, kot so navedena na spletni strani sem zajela naslednje podatke: \n",
    "- lokacija\n",
    "- število sob\n",
    "- nadstropje\n",
    "- leto izgradnje\n",
    "- velikost\n",
    "- cena\n"
   ]
  },
  {
   "cell_type": "code",
   "execution_count": 284,
   "metadata": {},
   "outputs": [],
   "source": [
    "import pandas as pd\n",
    "import numpy as np\n",
    "import matplotlib.pyplot as plt"
   ]
  },
  {
   "cell_type": "code",
   "execution_count": 159,
   "metadata": {},
   "outputs": [],
   "source": [
    "path_november = \"C:/Users/Milka/Cene-stanovanj-v-Sloveniji/csv_podatki_november/\"\n",
    "\n",
    "path_januar = \"C:/Users/Milka/Cene-stanovanj-v-Sloveniji/csv_podatki_januar/\"\n",
    "\n",
    "import os \n",
    "seznam_november = os.listdir(path_november)\n",
    "seznam_januar = os.listdir(path_januar)\n",
    "\n",
    "def tabele_v_seznam(seznam, path):\n",
    "    seznam_tabel = []\n",
    "    for i in range(len(seznam)):\n",
    "        tabela = pd.read_csv(path + seznam[i])\n",
    "        seznam_tabel.append(tabela)\n",
    "    return seznam_tabel"
   ]
  },
  {
   "cell_type": "markdown",
   "metadata": {},
   "source": [
    "Za lažje delo bom najprej vse podatke za posamezni mesec združila v novo tabelo. Vsakemu stanovanju bo dodan nov stolpec z informacijo o regiji."
   ]
  },
  {
   "cell_type": "code",
   "execution_count": 160,
   "metadata": {},
   "outputs": [],
   "source": [
    "tabele_november = tabele_v_seznam(seznam_november, path_november)\n",
    "tabele_januar = tabele_v_seznam(seznam_januar, path_januar)\n",
    "\n",
    "stolpec_regij = [\"Dolenjska\", \"Gorenjska\", \"Južna Primorska\", \n",
    "\"Koroška\", \"LJ center\", \"LJ okolica\", \"Posavska\", \n",
    "\"Savinjska\", \"Severna Primorska\", \"Zasavska\"]\n",
    "\n",
    "podatki_november = pd.concat(tabele_november, keys=stolpec_regij)\n",
    "podatki_januar = pd.concat(tabele_januar, keys=stolpec_regij)"
   ]
  },
  {
   "cell_type": "markdown",
   "metadata": {},
   "source": [
    "### Čiščenje podatkov\n",
    "V eni izemd tabel se je pojavil dodaten stolpec opis, ki ni koristen, zato ga izbrišem. \n",
    "Opazila sem, da se v csv datoteki ponavljajo vnosi, čeprav na spletni strani ni ponovljenih oglasov.\n",
    "Pri združevanju tabel in brisanju vrstic so se pojavile težave pri indeksih."
   ]
  },
  {
   "cell_type": "code",
   "execution_count": 240,
   "metadata": {},
   "outputs": [
    {
     "name": "stderr",
     "output_type": "stream",
     "text": [
      "C:\\Users\\Milka\\AppData\\Local\\Temp\\ipykernel_15308\\2519313811.py:6: FutureWarning: In a future version of pandas all arguments of DataFrame.drop except for the argument 'labels' will be keyword-only\n",
      "  november = november.reset_index().drop('level_1', 1)\n",
      "C:\\Users\\Milka\\AppData\\Local\\Temp\\ipykernel_15308\\2519313811.py:7: FutureWarning: In a future version of pandas all arguments of DataFrame.drop except for the argument 'labels' will be keyword-only\n",
      "  januar = januar.reset_index().drop('level_1', 1)\n",
      "C:\\Users\\Milka\\AppData\\Local\\Temp\\ipykernel_15308\\2519313811.py:12: FutureWarning: In a future version of pandas all arguments of DataFrame.drop except for the argument 'labels' will be keyword-only\n",
      "  november = november.drop('level_0', 1)\n",
      "C:\\Users\\Milka\\AppData\\Local\\Temp\\ipykernel_15308\\2519313811.py:13: FutureWarning: In a future version of pandas all arguments of DataFrame.drop except for the argument 'labels' will be keyword-only\n",
      "  januar = januar.drop('level_0', 1)\n",
      "C:\\Users\\Milka\\AppData\\Local\\Temp\\ipykernel_15308\\2519313811.py:17: SettingWithCopyWarning: \n",
      "A value is trying to be set on a copy of a slice from a DataFrame\n",
      "\n",
      "See the caveats in the documentation: https://pandas.pydata.org/pandas-docs/stable/user_guide/indexing.html#returning-a-view-versus-a-copy\n",
      "  januar['cena'][364] = '199.000,00'\n"
     ]
    }
   ],
   "source": [
    "pd.set_option(\"display.max_rows\", 10, \"display.max_columns\", 20)\n",
    "\n",
    "november = podatki_november.drop_duplicates().drop(columns= 'opis')\n",
    "januar = podatki_januar.drop_duplicates()\n",
    "\n",
    "november = november.reset_index().drop('level_1', 1)\n",
    "januar = januar.reset_index().drop('level_1', 1)\n",
    "\n",
    "november['regija'] = november['level_0']\n",
    "januar['regija'] = januar['level_0']\n",
    "\n",
    "november = november.drop('level_0', 1)\n",
    "januar = januar.drop('level_0', 1)\n",
    "\n",
    "#V tabeli januar se je na enem mestu 64 pojavila napačna vrednost, zato jo ročno popravim\n",
    "\n",
    "januar['cena'][364] = '199.000,00'"
   ]
  },
  {
   "cell_type": "markdown",
   "metadata": {},
   "source": [
    "Pri pridobivanju podatkov se je pojavilo nekaj napak pri stolpcu 'cena'. Podatke prečistim z naslednjo funckijo in jim spremeni tip v cela števila.\n",
    "V float bo potrebno spremeniti tudi velikost stanovanja, v int pa leto gradnje."
   ]
  },
  {
   "cell_type": "code",
   "execution_count": 366,
   "metadata": {},
   "outputs": [],
   "source": [
    "def popravi_ceno(vnos):\n",
    "    nov_niz = ''\n",
    "    for znak in str(vnos):\n",
    "        if znak != ',':\n",
    "            nov_niz += znak\n",
    "        else:\n",
    "            break\n",
    "    return int(nov_niz.replace('.',''))\n",
    "\n",
    "def popravi_velikost(vnos):\n",
    "    return float(vnos.replace(',', '.'))\n",
    "\n",
    "def popravi_leto(vnos):\n",
    "    return int(vnos)\n",
    "\n",
    "november['cena'] = november['cena'].map(lambda x: popravi_ceno(x))\n",
    "januar['cena'] = januar['cena'].map(lambda x: popravi_ceno(x))\n",
    "\n",
    "november['velikost'] = november['velikost'].map(lambda x: popravi_velikost(x))\n",
    "januar['velikost'] = januar['velikost'].map(lambda x: popravi_velikost(x))\n",
    "\n",
    "november['leto'] = november['leto'].map(lambda x: popravi_leto(x))\n",
    "januar['leto'] = januar['leto'].map(lambda x: popravi_leto(x))\n",
    "\n",
    "\n"
   ]
  },
  {
   "cell_type": "markdown",
   "metadata": {},
   "source": [
    "Za primerjavo cen bo koristna informacija o ceni na kvadratni meter stanovanja."
   ]
  },
  {
   "cell_type": "code",
   "execution_count": 370,
   "metadata": {},
   "outputs": [
    {
     "data": {
      "text/html": [
       "<div>\n",
       "<style scoped>\n",
       "    .dataframe tbody tr th:only-of-type {\n",
       "        vertical-align: middle;\n",
       "    }\n",
       "\n",
       "    .dataframe tbody tr th {\n",
       "        vertical-align: top;\n",
       "    }\n",
       "\n",
       "    .dataframe thead th {\n",
       "        text-align: right;\n",
       "    }\n",
       "</style>\n",
       "<table border=\"1\" class=\"dataframe\">\n",
       "  <thead>\n",
       "    <tr style=\"text-align: right;\">\n",
       "      <th></th>\n",
       "      <th>lokacija</th>\n",
       "      <th>sobno</th>\n",
       "      <th>nadstropje</th>\n",
       "      <th>leto</th>\n",
       "      <th>velikost</th>\n",
       "      <th>cena</th>\n",
       "      <th>regija</th>\n",
       "      <th>mesto</th>\n",
       "      <th>cena na m2</th>\n",
       "    </tr>\n",
       "  </thead>\n",
       "  <tbody>\n",
       "    <tr>\n",
       "      <th>0</th>\n",
       "      <td>MIRNA</td>\n",
       "      <td>3-sobno</td>\n",
       "      <td>1</td>\n",
       "      <td>2021</td>\n",
       "      <td>83.40</td>\n",
       "      <td>165132</td>\n",
       "      <td>Dolenjska</td>\n",
       "      <td>MIRNA</td>\n",
       "      <td>1980.0</td>\n",
       "    </tr>\n",
       "    <tr>\n",
       "      <th>1</th>\n",
       "      <td>NOVO MESTO</td>\n",
       "      <td>3-sobno</td>\n",
       "      <td>2</td>\n",
       "      <td>2023</td>\n",
       "      <td>90.68</td>\n",
       "      <td>207332</td>\n",
       "      <td>Dolenjska</td>\n",
       "      <td>NOVO MESTO</td>\n",
       "      <td>2286.0</td>\n",
       "    </tr>\n",
       "    <tr>\n",
       "      <th>2</th>\n",
       "      <td>NOVO MESTO</td>\n",
       "      <td>4-sobno</td>\n",
       "      <td>5</td>\n",
       "      <td>2023</td>\n",
       "      <td>104.82</td>\n",
       "      <td>273402</td>\n",
       "      <td>Dolenjska</td>\n",
       "      <td>NOVO MESTO</td>\n",
       "      <td>2608.0</td>\n",
       "    </tr>\n",
       "    <tr>\n",
       "      <th>3</th>\n",
       "      <td>ČRNOMELJ</td>\n",
       "      <td>2-sobno</td>\n",
       "      <td>4</td>\n",
       "      <td>1984</td>\n",
       "      <td>62.00</td>\n",
       "      <td>50000</td>\n",
       "      <td>Dolenjska</td>\n",
       "      <td>ČRNOMELJ</td>\n",
       "      <td>806.0</td>\n",
       "    </tr>\n",
       "    <tr>\n",
       "      <th>4</th>\n",
       "      <td>ČRNOMELJ, CENTER</td>\n",
       "      <td>4-sobno</td>\n",
       "      <td>2</td>\n",
       "      <td>2014</td>\n",
       "      <td>150.00</td>\n",
       "      <td>90000</td>\n",
       "      <td>Dolenjska</td>\n",
       "      <td>ČRNOMELJ</td>\n",
       "      <td>600.0</td>\n",
       "    </tr>\n",
       "    <tr>\n",
       "      <th>...</th>\n",
       "      <td>...</td>\n",
       "      <td>...</td>\n",
       "      <td>...</td>\n",
       "      <td>...</td>\n",
       "      <td>...</td>\n",
       "      <td>...</td>\n",
       "      <td>...</td>\n",
       "      <td>...</td>\n",
       "      <td>...</td>\n",
       "    </tr>\n",
       "    <tr>\n",
       "      <th>1324</th>\n",
       "      <td>KRŠKO</td>\n",
       "      <td>3,5-sobno</td>\n",
       "      <td>M</td>\n",
       "      <td>1992</td>\n",
       "      <td>88.70</td>\n",
       "      <td>59900</td>\n",
       "      <td>Zasavska</td>\n",
       "      <td>KRŠKO</td>\n",
       "      <td>675.0</td>\n",
       "    </tr>\n",
       "    <tr>\n",
       "      <th>1325</th>\n",
       "      <td>SENOVO</td>\n",
       "      <td>3-sobno</td>\n",
       "      <td>1</td>\n",
       "      <td>1923</td>\n",
       "      <td>98.90</td>\n",
       "      <td>80000</td>\n",
       "      <td>Zasavska</td>\n",
       "      <td>SENOVO</td>\n",
       "      <td>809.0</td>\n",
       "    </tr>\n",
       "    <tr>\n",
       "      <th>1326</th>\n",
       "      <td>SENOVO</td>\n",
       "      <td>3,5-sobno</td>\n",
       "      <td>VP</td>\n",
       "      <td>1973</td>\n",
       "      <td>100.00</td>\n",
       "      <td>95000</td>\n",
       "      <td>Zasavska</td>\n",
       "      <td>SENOVO</td>\n",
       "      <td>950.0</td>\n",
       "    </tr>\n",
       "    <tr>\n",
       "      <th>1327</th>\n",
       "      <td>SENOVO</td>\n",
       "      <td>3,5-sobno</td>\n",
       "      <td>1</td>\n",
       "      <td>1973</td>\n",
       "      <td>100.00</td>\n",
       "      <td>89000</td>\n",
       "      <td>Zasavska</td>\n",
       "      <td>SENOVO</td>\n",
       "      <td>890.0</td>\n",
       "    </tr>\n",
       "    <tr>\n",
       "      <th>1328</th>\n",
       "      <td>SEVNICA, VRHOVO</td>\n",
       "      <td>3-sobno</td>\n",
       "      <td>M</td>\n",
       "      <td>1990</td>\n",
       "      <td>73.00</td>\n",
       "      <td>71000</td>\n",
       "      <td>Zasavska</td>\n",
       "      <td>SEVNICA</td>\n",
       "      <td>973.0</td>\n",
       "    </tr>\n",
       "  </tbody>\n",
       "</table>\n",
       "<p>1329 rows × 9 columns</p>\n",
       "</div>"
      ],
      "text/plain": [
       "              lokacija      sobno nadstropje  leto  velikost    cena  \\\n",
       "0                MIRNA    3-sobno          1  2021     83.40  165132   \n",
       "1           NOVO MESTO    3-sobno          2  2023     90.68  207332   \n",
       "2           NOVO MESTO    4-sobno          5  2023    104.82  273402   \n",
       "3             ČRNOMELJ    2-sobno          4  1984     62.00   50000   \n",
       "4     ČRNOMELJ, CENTER    4-sobno          2  2014    150.00   90000   \n",
       "...                ...        ...        ...   ...       ...     ...   \n",
       "1324             KRŠKO  3,5-sobno          M  1992     88.70   59900   \n",
       "1325            SENOVO    3-sobno          1  1923     98.90   80000   \n",
       "1326            SENOVO  3,5-sobno         VP  1973    100.00   95000   \n",
       "1327            SENOVO  3,5-sobno          1  1973    100.00   89000   \n",
       "1328   SEVNICA, VRHOVO    3-sobno          M  1990     73.00   71000   \n",
       "\n",
       "         regija       mesto  cena na m2  \n",
       "0     Dolenjska       MIRNA      1980.0  \n",
       "1     Dolenjska  NOVO MESTO      2286.0  \n",
       "2     Dolenjska  NOVO MESTO      2608.0  \n",
       "3     Dolenjska    ČRNOMELJ       806.0  \n",
       "4     Dolenjska    ČRNOMELJ       600.0  \n",
       "...         ...         ...         ...  \n",
       "1324   Zasavska       KRŠKO       675.0  \n",
       "1325   Zasavska      SENOVO       809.0  \n",
       "1326   Zasavska      SENOVO       950.0  \n",
       "1327   Zasavska      SENOVO       890.0  \n",
       "1328   Zasavska     SEVNICA       973.0  \n",
       "\n",
       "[1329 rows x 9 columns]"
      ]
     },
     "execution_count": 370,
     "metadata": {},
     "output_type": "execute_result"
    }
   ],
   "source": [
    "november['cena na m2'] = round(november['cena'] / november['velikost'])\n",
    "januar['cena na m2'] = round(januar['cena'] / januar['velikost'])\n",
    "november"
   ]
  },
  {
   "cell_type": "code",
   "execution_count": 173,
   "metadata": {},
   "outputs": [],
   "source": [
    "# filter po starosti, velikosti\n",
    "starost_januar = januar.sort_values(by=['leto'], ascending=True)\n",
    "cena_januar = januar.sort_values(by=['velikost'], ascending=True)"
   ]
  },
  {
   "cell_type": "markdown",
   "metadata": {},
   "source": [
    "Za natančnejšo analizo lokacij, moram počistiti stolpec, tako da bo v njem ostalo samo eno ime. "
   ]
  },
  {
   "cell_type": "code",
   "execution_count": 253,
   "metadata": {},
   "outputs": [],
   "source": [
    "def popravi_mesto(vnos):\n",
    "    nov_niz = ''\n",
    "    for znak in str(vnos):\n",
    "        if znak != ',':\n",
    "            nov_niz += znak\n",
    "        else:\n",
    "            break\n",
    "    return nov_niz\n",
    "\n",
    "november['mesto'] = november['lokacija'].map(lambda x: popravi_mesto(x))\n",
    "januar['mesto'] = januar['lokacija'].map(lambda x: popravi_mesto(x))"
   ]
  },
  {
   "cell_type": "markdown",
   "metadata": {},
   "source": [
    "# Analiza podatkov\n",
    "Zdaj so podatki v grobem pripravljeni za analizo.\n",
    "Najprej si poglejmo, koliko stanovanj je bilo na voljo po regijah in natančneje po mestih v januarju in novembru."
   ]
  },
  {
   "cell_type": "markdown",
   "metadata": {},
   "source": [
    "# Število stanovanj na trgu glede na regije"
   ]
  },
  {
   "cell_type": "markdown",
   "metadata": {},
   "source": [
    "Koliko stanovanj je na voljo v posameznih regijah in razlika med meseci. "
   ]
  },
  {
   "cell_type": "code",
   "execution_count": 341,
   "metadata": {},
   "outputs": [
    {
     "data": {
      "text/html": [
       "<div>\n",
       "<style scoped>\n",
       "    .dataframe tbody tr th:only-of-type {\n",
       "        vertical-align: middle;\n",
       "    }\n",
       "\n",
       "    .dataframe tbody tr th {\n",
       "        vertical-align: top;\n",
       "    }\n",
       "\n",
       "    .dataframe thead th {\n",
       "        text-align: right;\n",
       "    }\n",
       "</style>\n",
       "<table border=\"1\" class=\"dataframe\">\n",
       "  <thead>\n",
       "    <tr style=\"text-align: right;\">\n",
       "      <th></th>\n",
       "      <th>november</th>\n",
       "      <th>januar</th>\n",
       "    </tr>\n",
       "  </thead>\n",
       "  <tbody>\n",
       "    <tr>\n",
       "      <th>Dolenjska</th>\n",
       "      <td>50</td>\n",
       "      <td>43</td>\n",
       "    </tr>\n",
       "    <tr>\n",
       "      <th>Gorenjska</th>\n",
       "      <td>109</td>\n",
       "      <td>120</td>\n",
       "    </tr>\n",
       "    <tr>\n",
       "      <th>Južna Primorska</th>\n",
       "      <td>153</td>\n",
       "      <td>154</td>\n",
       "    </tr>\n",
       "    <tr>\n",
       "      <th>Koroška</th>\n",
       "      <td>27</td>\n",
       "      <td>29</td>\n",
       "    </tr>\n",
       "    <tr>\n",
       "      <th>LJ center</th>\n",
       "      <td>620</td>\n",
       "      <td>577</td>\n",
       "    </tr>\n",
       "    <tr>\n",
       "      <th>LJ okolica</th>\n",
       "      <td>113</td>\n",
       "      <td>127</td>\n",
       "    </tr>\n",
       "    <tr>\n",
       "      <th>Posavska</th>\n",
       "      <td>22</td>\n",
       "      <td>20</td>\n",
       "    </tr>\n",
       "    <tr>\n",
       "      <th>Savinjska</th>\n",
       "      <td>202</td>\n",
       "      <td>164</td>\n",
       "    </tr>\n",
       "    <tr>\n",
       "      <th>Severna Primorska</th>\n",
       "      <td>23</td>\n",
       "      <td>24</td>\n",
       "    </tr>\n",
       "    <tr>\n",
       "      <th>Zasavska</th>\n",
       "      <td>10</td>\n",
       "      <td>13</td>\n",
       "    </tr>\n",
       "  </tbody>\n",
       "</table>\n",
       "</div>"
      ],
      "text/plain": [
       "                   november  januar\n",
       "Dolenjska                50      43\n",
       "Gorenjska               109     120\n",
       "Južna Primorska         153     154\n",
       "Koroška                  27      29\n",
       "LJ center               620     577\n",
       "LJ okolica              113     127\n",
       "Posavska                 22      20\n",
       "Savinjska               202     164\n",
       "Severna Primorska        23      24\n",
       "Zasavska                 10      13"
      ]
     },
     "execution_count": 341,
     "metadata": {},
     "output_type": "execute_result"
    }
   ],
   "source": [
    "stevilo_stanovanj_januar = januar[['regija', 'mesto']].copy()\n",
    "stevilo_stanovanj_november = november[['regija', 'mesto']].copy()\n",
    "\n",
    "stevilo_stanovanj_regije_januar = stevilo_stanovanj_januar.groupby(by='regija').size()\n",
    "stevilo_stanovanj_regije_november = stevilo_stanovanj_november.groupby(by='regija').size()\n",
    "\n",
    "df1 = stevilo_stanovanj_regije_januar.to_frame()\n",
    "df1.index.names = [None]\n",
    "df1 = df1.rename(columns={0: 'januar'})\n",
    "\n",
    "df2 = stevilo_stanovanj_regije_november.to_frame()\n",
    "df2.index.names = [None]\n",
    "df2 = df2.rename(columns={0: 'november'})\n",
    "\n",
    "df = pd.concat([df2, df1], axis=1)\n",
    "df\n",
    "\n"
   ]
  },
  {
   "cell_type": "code",
   "execution_count": 342,
   "metadata": {},
   "outputs": [
    {
     "data": {
      "text/plain": [
       "<AxesSubplot:>"
      ]
     },
     "execution_count": 342,
     "metadata": {},
     "output_type": "execute_result"
    },
    {
     "data": {
      "image/png": "[encoded data removed]",
      "text/plain": [
       "<Figure size 432x288 with 1 Axes>"
      ]
     },
     "metadata": {
      "needs_background": "light"
     },
     "output_type": "display_data"
    }
   ],
   "source": [
    "df.plot.bar()"
   ]
  },
  {
   "cell_type": "markdown",
   "metadata": {},
   "source": [
    "# Število stanovanj v mestih"
   ]
  },
  {
   "cell_type": "code",
   "execution_count": 356,
   "metadata": {},
   "outputs": [
    {
     "data": {
      "text/html": [
       "<div>\n",
       "<style scoped>\n",
       "    .dataframe tbody tr th:only-of-type {\n",
       "        vertical-align: middle;\n",
       "    }\n",
       "\n",
       "    .dataframe tbody tr th {\n",
       "        vertical-align: top;\n",
       "    }\n",
       "\n",
       "    .dataframe thead th {\n",
       "        text-align: right;\n",
       "    }\n",
       "</style>\n",
       "<table border=\"1\" class=\"dataframe\">\n",
       "  <thead>\n",
       "    <tr style=\"text-align: right;\">\n",
       "      <th></th>\n",
       "      <th>število stanovanj</th>\n",
       "    </tr>\n",
       "  </thead>\n",
       "  <tbody>\n",
       "    <tr>\n",
       "      <th>LJ. CENTER</th>\n",
       "      <td>150</td>\n",
       "    </tr>\n",
       "    <tr>\n",
       "      <th>LJ. BEŽIGRAD</th>\n",
       "      <td>77</td>\n",
       "    </tr>\n",
       "    <tr>\n",
       "      <th>LJ. ŠIŠKA</th>\n",
       "      <td>53</td>\n",
       "    </tr>\n",
       "    <tr>\n",
       "      <th>KRANJ</th>\n",
       "      <td>48</td>\n",
       "    </tr>\n",
       "    <tr>\n",
       "      <th>KOPER</th>\n",
       "      <td>40</td>\n",
       "    </tr>\n",
       "    <tr>\n",
       "      <th>...</th>\n",
       "      <td>...</td>\n",
       "    </tr>\n",
       "    <tr>\n",
       "      <th>NOTRANJE GORICE</th>\n",
       "      <td>1</td>\n",
       "    </tr>\n",
       "    <tr>\n",
       "      <th>MORAVSKE TOPLICE</th>\n",
       "      <td>1</td>\n",
       "    </tr>\n",
       "    <tr>\n",
       "      <th>MLAKA PRI KOČEVJU</th>\n",
       "      <td>1</td>\n",
       "    </tr>\n",
       "    <tr>\n",
       "      <th>MISLINJSKA DOBRAVA</th>\n",
       "      <td>1</td>\n",
       "    </tr>\n",
       "    <tr>\n",
       "      <th>MALO HUDO</th>\n",
       "      <td>1</td>\n",
       "    </tr>\n",
       "  </tbody>\n",
       "</table>\n",
       "<p>219 rows × 1 columns</p>\n",
       "</div>"
      ],
      "text/plain": [
       "                    število stanovanj\n",
       "LJ. CENTER                        150\n",
       "LJ. BEŽIGRAD                       77\n",
       "LJ. ŠIŠKA                          53\n",
       "KRANJ                              48\n",
       "KOPER                              40\n",
       "...                               ...\n",
       "NOTRANJE GORICE                     1\n",
       "MORAVSKE TOPLICE                    1\n",
       "MLAKA PRI KOČEVJU                   1\n",
       "MISLINJSKA DOBRAVA                  1\n",
       "MALO HUDO                           1\n",
       "\n",
       "[219 rows x 1 columns]"
      ]
     },
     "execution_count": 356,
     "metadata": {},
     "output_type": "execute_result"
    }
   ],
   "source": [
    "stevilo_po_mestih = januar.groupby('mesto').size().sort_values(ascending=False).to_frame()\n",
    "stevilo_po_mestih.index.names = [None]\n",
    "stevilo_po_mestih.rename(columns={0: 'število stanovanj'})"
   ]
  },
  {
   "cell_type": "code",
   "execution_count": 363,
   "metadata": {},
   "outputs": [
    {
     "data": {
      "text/plain": [
       "<AxesSubplot:>"
      ]
     },
     "execution_count": 363,
     "metadata": {},
     "output_type": "execute_result"
    },
    {
     "data": {
      "image/png": "[encoded data removed]",
      "text/plain": [
       "<Figure size 432x288 with 1 Axes>"
      ]
     },
     "metadata": {
      "needs_background": "light"
     },
     "output_type": "display_data"
    }
   ],
   "source": [
    "stevilo_po_mestih.rename(columns={0: 'število stanovanj'}).head(20).plot.bar()"
   ]
  },
  {
   "cell_type": "markdown",
   "metadata": {},
   "source": [
    "Kot predvideno je največ stanovanj na voljo v Ljubljani, natančneje v centru. Najmanj jih je na voljo v Zasavski regiji."
   ]
  },
  {
   "cell_type": "markdown",
   "metadata": {},
   "source": [
    "# Povprečna cena kvadratnega metra glede na regijo"
   ]
  },
  {
   "cell_type": "markdown",
   "metadata": {},
   "source": [
    "Za vsako izmed regij izračunam povprečno ceno na kvadrat."
   ]
  },
  {
   "cell_type": "code",
   "execution_count": 390,
   "metadata": {},
   "outputs": [
    {
     "data": {
      "text/html": [
       "<div>\n",
       "<style scoped>\n",
       "    .dataframe tbody tr th:only-of-type {\n",
       "        vertical-align: middle;\n",
       "    }\n",
       "\n",
       "    .dataframe tbody tr th {\n",
       "        vertical-align: top;\n",
       "    }\n",
       "\n",
       "    .dataframe thead th {\n",
       "        text-align: right;\n",
       "    }\n",
       "</style>\n",
       "<table border=\"1\" class=\"dataframe\">\n",
       "  <thead>\n",
       "    <tr style=\"text-align: right;\">\n",
       "      <th></th>\n",
       "      <th>november</th>\n",
       "      <th>januar</th>\n",
       "    </tr>\n",
       "  </thead>\n",
       "  <tbody>\n",
       "    <tr>\n",
       "      <th>Dolenjska</th>\n",
       "      <td>1470.0</td>\n",
       "      <td>1522.0</td>\n",
       "    </tr>\n",
       "    <tr>\n",
       "      <th>Gorenjska</th>\n",
       "      <td>2748.0</td>\n",
       "      <td>2941.0</td>\n",
       "    </tr>\n",
       "    <tr>\n",
       "      <th>Južna Primorska</th>\n",
       "      <td>3603.0</td>\n",
       "      <td>3768.0</td>\n",
       "    </tr>\n",
       "    <tr>\n",
       "      <th>Koroška</th>\n",
       "      <td>1371.0</td>\n",
       "      <td>1579.0</td>\n",
       "    </tr>\n",
       "    <tr>\n",
       "      <th>LJ center</th>\n",
       "      <td>3725.0</td>\n",
       "      <td>3859.0</td>\n",
       "    </tr>\n",
       "    <tr>\n",
       "      <th>LJ okolica</th>\n",
       "      <td>2518.0</td>\n",
       "      <td>2588.0</td>\n",
       "    </tr>\n",
       "    <tr>\n",
       "      <th>Posavska</th>\n",
       "      <td>1151.0</td>\n",
       "      <td>1750.0</td>\n",
       "    </tr>\n",
       "    <tr>\n",
       "      <th>Savinjska</th>\n",
       "      <td>1600.0</td>\n",
       "      <td>1746.0</td>\n",
       "    </tr>\n",
       "    <tr>\n",
       "      <th>Severna Primorska</th>\n",
       "      <td>1452.0</td>\n",
       "      <td>1437.0</td>\n",
       "    </tr>\n",
       "    <tr>\n",
       "      <th>Zasavska</th>\n",
       "      <td>1167.0</td>\n",
       "      <td>1261.0</td>\n",
       "    </tr>\n",
       "  </tbody>\n",
       "</table>\n",
       "</div>"
      ],
      "text/plain": [
       "                   november  januar\n",
       "Dolenjska            1470.0  1522.0\n",
       "Gorenjska            2748.0  2941.0\n",
       "Južna Primorska      3603.0  3768.0\n",
       "Koroška              1371.0  1579.0\n",
       "LJ center            3725.0  3859.0\n",
       "LJ okolica           2518.0  2588.0\n",
       "Posavska             1151.0  1750.0\n",
       "Savinjska            1600.0  1746.0\n",
       "Severna Primorska    1452.0  1437.0\n",
       "Zasavska             1167.0  1261.0"
      ]
     },
     "execution_count": 390,
     "metadata": {},
     "output_type": "execute_result"
    }
   ],
   "source": [
    "cena_regije_januar = januar[['regija','cena na m2']].groupby('regija').mean().round()\n",
    "cena_regije_januar.index.names = [None]\n",
    "cena_regije_januar = cena_regije_januar.rename(columns={'cena na m2': 'januar'})\n",
    "cena_regije_januar\n",
    "\n",
    "cena_regije_november = november[['regija','cena na m2']].groupby('regija').mean().round()\n",
    "cena_regije_november.index.names = [None]\n",
    "cena_regije_november = cena_regije_november.rename(columns={'cena na m2': 'november'})\n",
    "\n",
    "df_regije_cena = pd.concat([cena_regije_november, cena_regije_januar], axis=1)\n",
    "df_regije_cena\n"
   ]
  },
  {
   "cell_type": "code",
   "execution_count": 391,
   "metadata": {},
   "outputs": [
    {
     "data": {
      "text/plain": [
       "<AxesSubplot:>"
      ]
     },
     "execution_count": 391,
     "metadata": {},
     "output_type": "execute_result"
    },
    {
     "data": {
      "image/png": "[encoded data removed]",
      "text/plain": [
       "<Figure size 432x288 with 1 Axes>"
      ]
     },
     "metadata": {
      "needs_background": "light"
     },
     "output_type": "display_data"
    }
   ],
   "source": [
    "df_regije_cena.plot.bar()"
   ]
  },
  {
   "cell_type": "code",
   "execution_count": 432,
   "metadata": {},
   "outputs": [],
   "source": [
    "# to tabelo bomo uporabljali za raziskovanje povezave med velikostjo ter ceno na kvadratni meter\n",
    "skupno = pd.concat([november, januar])\n",
    "skupno['ponovljeno'] = skupno.duplicated(subset=['lokacija', 'sobno','nadstropje', 'leto', 'velikost', 'regija', 'mesto'])\n"
   ]
  },
  {
   "cell_type": "markdown",
   "metadata": {},
   "source": [
    "## Cena v odvisnosti od leta gradnje."
   ]
  },
  {
   "cell_type": "code",
   "execution_count": 429,
   "metadata": {},
   "outputs": [
    {
     "data": {
      "text/plain": [
       "<AxesSubplot:xlabel='leto', ylabel='cena na m2'>"
      ]
     },
     "execution_count": 429,
     "metadata": {},
     "output_type": "execute_result"
    },
    {
     "data": {
      "image/png": "[encoded data removed]",
      "text/plain": [
       "<Figure size 432x288 with 1 Axes>"
      ]
     },
     "metadata": {
      "needs_background": "light"
     },
     "output_type": "display_data"
    }
   ],
   "source": [
    "januar[januar.leto > 1400].plot.scatter('leto','cena na m2')"
   ]
  },
  {
   "cell_type": "code",
   "execution_count": 430,
   "metadata": {},
   "outputs": [
    {
     "data": {
      "text/plain": [
       "<AxesSubplot:xlabel='leto', ylabel='cena na m2'>"
      ]
     },
     "execution_count": 430,
     "metadata": {},
     "output_type": "execute_result"
    },
    {
     "data": {
      "image/png": "[encoded data removed]",
      "text/plain": [
       "<Figure size 432x288 with 1 Axes>"
      ]
     },
     "metadata": {
      "needs_background": "light"
     },
     "output_type": "display_data"
    }
   ],
   "source": [
    "januar[januar.leto > 1900].plot.scatter('leto','cena na m2')"
   ]
  },
  {
   "cell_type": "markdown",
   "metadata": {},
   "source": [
    "V podatkih ni razvidnega vzorca med ceno stanovanja ter letom gradnje."
   ]
  },
  {
   "cell_type": "markdown",
   "metadata": {},
   "source": [
    "## Cena v odvisnosti od velikosti stanovanj."
   ]
  },
  {
   "cell_type": "code",
   "execution_count": 402,
   "metadata": {},
   "outputs": [
    {
     "data": {
      "text/plain": [
       "<AxesSubplot:xlabel='velikost', ylabel='cena'>"
      ]
     },
     "execution_count": 402,
     "metadata": {},
     "output_type": "execute_result"
    },
    {
     "data": {
      "image/png": "[encoded data removed]",
      "text/plain": [
       "<Figure size 432x288 with 1 Axes>"
      ]
     },
     "metadata": {
      "needs_background": "light"
     },
     "output_type": "display_data"
    }
   ],
   "source": [
    "januar.plot.scatter('velikost','cena')"
   ]
  },
  {
   "cell_type": "markdown",
   "metadata": {},
   "source": [
    "Cena se pričakovano sorazmerno zvišuje s velikostjo."
   ]
  },
  {
   "cell_type": "markdown",
   "metadata": {},
   "source": [
    "## Povezava med starostjo stanovanj ter regijami"
   ]
  },
  {
   "cell_type": "markdown",
   "metadata": {},
   "source": [
    "Izračunam povprečno starost nepremičnin za posamezno regijo."
   ]
  },
  {
   "cell_type": "code",
   "execution_count": 439,
   "metadata": {},
   "outputs": [
    {
     "data": {
      "text/html": [
       "<div>\n",
       "<style scoped>\n",
       "    .dataframe tbody tr th:only-of-type {\n",
       "        vertical-align: middle;\n",
       "    }\n",
       "\n",
       "    .dataframe tbody tr th {\n",
       "        vertical-align: top;\n",
       "    }\n",
       "\n",
       "    .dataframe thead th {\n",
       "        text-align: right;\n",
       "    }\n",
       "</style>\n",
       "<table border=\"1\" class=\"dataframe\">\n",
       "  <thead>\n",
       "    <tr style=\"text-align: right;\">\n",
       "      <th></th>\n",
       "      <th>leto</th>\n",
       "    </tr>\n",
       "    <tr>\n",
       "      <th>regija</th>\n",
       "      <th></th>\n",
       "    </tr>\n",
       "  </thead>\n",
       "  <tbody>\n",
       "    <tr>\n",
       "      <th>Dolenjska</th>\n",
       "      <td>1974.0</td>\n",
       "    </tr>\n",
       "    <tr>\n",
       "      <th>Gorenjska</th>\n",
       "      <td>1962.0</td>\n",
       "    </tr>\n",
       "    <tr>\n",
       "      <th>Južna Primorska</th>\n",
       "      <td>1956.0</td>\n",
       "    </tr>\n",
       "    <tr>\n",
       "      <th>Koroška</th>\n",
       "      <td>2002.0</td>\n",
       "    </tr>\n",
       "    <tr>\n",
       "      <th>LJ center</th>\n",
       "      <td>1940.0</td>\n",
       "    </tr>\n",
       "    <tr>\n",
       "      <th>LJ okolica</th>\n",
       "      <td>1987.0</td>\n",
       "    </tr>\n",
       "    <tr>\n",
       "      <th>Posavska</th>\n",
       "      <td>1980.0</td>\n",
       "    </tr>\n",
       "    <tr>\n",
       "      <th>Savinjska</th>\n",
       "      <td>1965.0</td>\n",
       "    </tr>\n",
       "    <tr>\n",
       "      <th>Severna Primorska</th>\n",
       "      <td>2001.0</td>\n",
       "    </tr>\n",
       "    <tr>\n",
       "      <th>Zasavska</th>\n",
       "      <td>1971.0</td>\n",
       "    </tr>\n",
       "  </tbody>\n",
       "</table>\n",
       "</div>"
      ],
      "text/plain": [
       "                     leto\n",
       "regija                   \n",
       "Dolenjska          1974.0\n",
       "Gorenjska          1962.0\n",
       "Južna Primorska    1956.0\n",
       "Koroška            2002.0\n",
       "LJ center          1940.0\n",
       "LJ okolica         1987.0\n",
       "Posavska           1980.0\n",
       "Savinjska          1965.0\n",
       "Severna Primorska  2001.0\n",
       "Zasavska           1971.0"
      ]
     },
     "execution_count": 439,
     "metadata": {},
     "output_type": "execute_result"
    }
   ],
   "source": [
    "povprecna_starost = januar[['regija','leto']]\n",
    "povprecna_starost.groupby('regija').mean().round()"
   ]
  },
  {
   "cell_type": "markdown",
   "metadata": {},
   "source": [
    "## Stanovanja, ki so na trgu dlje časa\n",
    "Za podatke iz novembra in januarja poiščem ponavljajoče se oglase in jih shranim v novo tabelo. V čem stanovanja, ki so na trgu dlje časa (vsaj 3 mesece), odstopajo od drugih?"
   ]
  },
  {
   "cell_type": "code",
   "execution_count": 426,
   "metadata": {},
   "outputs": [
    {
     "name": "stderr",
     "output_type": "stream",
     "text": [
      "C:\\Users\\Milka\\AppData\\Local\\Temp\\ipykernel_15308\\4069147258.py:1: FutureWarning: Dropping of nuisance columns in DataFrame reductions (with 'numeric_only=None') is deprecated; in a future version this will raise TypeError.  Select only valid columns before calling the reduction.\n",
      "  povprecje_ponovitve = skupno[skupno.ponovljeno == True].drop_duplicates().drop(columns='ponovljeno').mean().round().to_frame().rename(columns={0: 'ponovitve povprečje'})\n",
      "C:\\Users\\Milka\\AppData\\Local\\Temp\\ipykernel_15308\\4069147258.py:2: FutureWarning: Dropping of nuisance columns in DataFrame reductions (with 'numeric_only=None') is deprecated; in a future version this will raise TypeError.  Select only valid columns before calling the reduction.\n",
      "  povprecje_januar = januar.mean().round().to_frame().rename(columns={0: 'januar povprečje'})\n",
      "C:\\Users\\Milka\\AppData\\Local\\Temp\\ipykernel_15308\\4069147258.py:3: FutureWarning: Dropping of nuisance columns in DataFrame reductions (with 'numeric_only=None') is deprecated; in a future version this will raise TypeError.  Select only valid columns before calling the reduction.\n",
      "  povprecje_november = november.mean().round().to_frame().rename(columns={0: 'november povprečje'})\n"
     ]
    },
    {
     "data": {
      "text/html": [
       "<div>\n",
       "<style scoped>\n",
       "    .dataframe tbody tr th:only-of-type {\n",
       "        vertical-align: middle;\n",
       "    }\n",
       "\n",
       "    .dataframe tbody tr th {\n",
       "        vertical-align: top;\n",
       "    }\n",
       "\n",
       "    .dataframe thead th {\n",
       "        text-align: right;\n",
       "    }\n",
       "</style>\n",
       "<table border=\"1\" class=\"dataframe\">\n",
       "  <thead>\n",
       "    <tr style=\"text-align: right;\">\n",
       "      <th></th>\n",
       "      <th>november povprečje</th>\n",
       "      <th>januar povprečje</th>\n",
       "      <th>ponovitve povprečje</th>\n",
       "    </tr>\n",
       "  </thead>\n",
       "  <tbody>\n",
       "    <tr>\n",
       "      <th>leto</th>\n",
       "      <td>1961.0</td>\n",
       "      <td>1957.0</td>\n",
       "      <td>1947.0</td>\n",
       "    </tr>\n",
       "    <tr>\n",
       "      <th>velikost</th>\n",
       "      <td>99.0</td>\n",
       "      <td>99.0</td>\n",
       "      <td>112.0</td>\n",
       "    </tr>\n",
       "    <tr>\n",
       "      <th>cena</th>\n",
       "      <td>286965.0</td>\n",
       "      <td>299025.0</td>\n",
       "      <td>341923.0</td>\n",
       "    </tr>\n",
       "    <tr>\n",
       "      <th>cena na m2</th>\n",
       "      <td>2971.0</td>\n",
       "      <td>3125.0</td>\n",
       "      <td>3105.0</td>\n",
       "    </tr>\n",
       "  </tbody>\n",
       "</table>\n",
       "</div>"
      ],
      "text/plain": [
       "            november povprečje  januar povprečje  ponovitve povprečje\n",
       "leto                    1961.0            1957.0               1947.0\n",
       "velikost                  99.0              99.0                112.0\n",
       "cena                  286965.0          299025.0             341923.0\n",
       "cena na m2              2971.0            3125.0               3105.0"
      ]
     },
     "execution_count": 426,
     "metadata": {},
     "output_type": "execute_result"
    }
   ],
   "source": [
    "povprecje_ponovitve = skupno[skupno.ponovljeno == True].drop_duplicates().drop(columns='ponovljeno').mean().round().to_frame().rename(columns={0: 'ponovitve povprečje'})\n",
    "povprecje_januar = januar.mean().round().to_frame().rename(columns={0: 'januar povprečje'})\n",
    "povprecje_november = november.mean().round().to_frame().rename(columns={0: 'november povprečje'})\n",
    "df_regije_cena = pd.concat([povprecje_november, povprecje_januar, povprecje_ponovitve], axis=1)\n",
    "df_regije_cena"
   ]
  },
  {
   "cell_type": "markdown",
   "metadata": {},
   "source": [
    "Stanovanja, ki se prodajajo dlje časa so v povprečju starejša ter večja od tistih, ki so se prodale v manj kot 3-h mesecih. Ali je to zaradi cen težko ocenim, saj so se cene v tem obdobju zvišale. "
   ]
  },
  {
   "cell_type": "markdown",
   "metadata": {},
   "source": [
    "## Zaključek:"
   ]
  },
  {
   "cell_type": "markdown",
   "metadata": {},
   "source": [
    "Ugotovila sem:\n",
    "- Stanovanj je največ v Ljubljani in najmanj v Zasavski, Posavski, Koroški ter Severno Primorski regiji. To drži tako za mesec november kot januar\n",
    "- Primerjava med meseci in po regijah je pokazala, da so se nepremičnine podražile v vseh regijah.\n",
    "- Očitno so večja stanovanja tudi dražja, medtem ko jasne povezave med letom gradnje in ceno ni bilo. To gre najbrž pripisati dejstvu, da so moji podatki obsegali le leto gradnje, ne pa tudi leto obnove.\n",
    "- Ali se dražja stanovanja prodajajo dlje nisem mogla sklepati. Stanovanja, ki se prodajajo dlje časa so v povprečju starejša in večja. \n",
    "\n",
    "Žal sem podatke zajela le za dva meseca, zanimiva bi bila podobna analiza za vse mesece v letu, morda tudi primerjava z drugimi državami. "
   ]
  }
 ],
 "metadata": {
  "interpreter": {
   "hash": "23393d2575091a37cff0d0e9e7479591a295495b26c3b2ebf9b64da572e02d85"
  },
  "kernelspec": {
   "display_name": "Python 3.8.7 64-bit",
   "language": "python",
   "name": "python3"
  },
  "language_info": {
   "codemirror_mode": {
    "name": "ipython",
    "version": 3
   },
   "file_extension": ".py",
   "mimetype": "text/x-python",
   "name": "python",
   "nbconvert_exporter": "python",
   "pygments_lexer": "ipython3",
   "version": "3.9.7"
  },
  "orig_nbformat": 4
 },
 "nbformat": 4,
 "nbformat_minor": 2
}

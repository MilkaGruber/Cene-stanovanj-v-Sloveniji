{
 "cells": [
  {
   "cell_type": "markdown",
   "metadata": {},
   "source": [
    "# Analiza podatkov - Cene stanovanj v Sloveniji\n",
    "\n"
   ]
  },
  {
   "cell_type": "markdown",
   "metadata": {},
   "source": [
    "## Projektna naloga pri predmetu Programiranje 1\n",
    "\n",
    "Naloga obsega analizo podatkov o stanovanjih, ki so naprodaj v Sloveniji, pridobljenih iz spletne strani www.nepremicnine.net/ v mesecu novembru 2021 ter januarju 2022.\n",
    "\n",
    "Za posamezne regije oz. območja, kot so navedena na spletni strani sem zajela naslednje podatke: \n",
    "- lokacija\n",
    "- število sob\n",
    "- nadstropje\n",
    "- leto izgradnje\n",
    "- velikost\n",
    "- cena\n",
    "\n",
    "Žal sem podatke zajela le v dveh mesecih, zanimiva bi bila podobna analiza za vse mesece v letu, morda tudi primerjava z drugimi državami. V tej nalogi bom postavila ogrodje za takšno analizo na pridobljenih podatkih."
   ]
  },
  {
   "cell_type": "code",
   "execution_count": 158,
   "metadata": {},
   "outputs": [],
   "source": [
    "import pandas as pd"
   ]
  },
  {
   "cell_type": "code",
   "execution_count": 159,
   "metadata": {},
   "outputs": [],
   "source": [
    "path_november = \"C:/Users/Milka/Cene-stanovanj-v-Sloveniji/csv_podatki_november/\"\n",
    "\n",
    "path_januar = \"C:/Users/Milka/Cene-stanovanj-v-Sloveniji/csv_podatki_januar/\"\n",
    "\n",
    "import os \n",
    "seznam_november = os.listdir(path_november)\n",
    "seznam_januar = os.listdir(path_januar)\n",
    "\n",
    "def tabele_v_seznam(seznam, path):\n",
    "    seznam_tabel = []\n",
    "    for i in range(len(seznam)):\n",
    "        tabela = pd.read_csv(path + seznam[i])\n",
    "        seznam_tabel.append(tabela)\n",
    "    return seznam_tabel"
   ]
  },
  {
   "cell_type": "markdown",
   "metadata": {},
   "source": [
    "Za lažje delo bom najprej vse podatke za posamezni mesec združila v novo tabelo. Vsakemu stanovanju bo dodan nov stolpec z informacijo o regiji."
   ]
  },
  {
   "cell_type": "code",
   "execution_count": 160,
   "metadata": {},
   "outputs": [],
   "source": [
    "tabele_november = tabele_v_seznam(seznam_november, path_november)\n",
    "tabele_januar = tabele_v_seznam(seznam_januar, path_januar)\n",
    "\n",
    "stolpec_regij = [\"Dolenjska\", \"Gorenjska\", \"Južna Primorska\", \n",
    "\"Koroška\", \"LJ center\", \"LJ okolica\", \"Posavska\", \n",
    "\"Savinjska\", \"Severna Primorska\", \"Zasavska\"]\n",
    "\n",
    "podatki_november = pd.concat(tabele_november, keys=stolpec_regij)\n",
    "podatki_januar = pd.concat(tabele_januar, keys=stolpec_regij)"
   ]
  },
  {
   "cell_type": "markdown",
   "metadata": {},
   "source": [
    "### Čiščenje podatkov\n",
    "V eni izemd tabel se je pojavil dodaten stolpec opis, ki ni koristen, zato ga izbrišem. \n",
    "Opazila sem, da se v csv datoteki ponavljajo vnosi, čeprav na spletni strani ni ponovljenih oglasov.\n",
    "Pri združevanju tabel in brisanju vrstic so se pojavile težave pri indeksih."
   ]
  },
  {
   "cell_type": "code",
   "execution_count": 161,
   "metadata": {},
   "outputs": [
    {
     "name": "stderr",
     "output_type": "stream",
     "text": [
      "C:\\Users\\Milka\\AppData\\Local\\Temp\\ipykernel_15308\\3685942428.py:6: FutureWarning: In a future version of pandas all arguments of DataFrame.drop except for the argument 'labels' will be keyword-only\n",
      "  november = november.reset_index().drop('level_1', 1)\n",
      "C:\\Users\\Milka\\AppData\\Local\\Temp\\ipykernel_15308\\3685942428.py:7: FutureWarning: In a future version of pandas all arguments of DataFrame.drop except for the argument 'labels' will be keyword-only\n",
      "  januar = januar.reset_index().drop('level_1', 1)\n",
      "C:\\Users\\Milka\\AppData\\Local\\Temp\\ipykernel_15308\\3685942428.py:12: FutureWarning: In a future version of pandas all arguments of DataFrame.drop except for the argument 'labels' will be keyword-only\n",
      "  november = november.drop('level_0', 1)\n",
      "C:\\Users\\Milka\\AppData\\Local\\Temp\\ipykernel_15308\\3685942428.py:13: FutureWarning: In a future version of pandas all arguments of DataFrame.drop except for the argument 'labels' will be keyword-only\n",
      "  januar = januar.drop('level_0', 1)\n",
      "C:\\Users\\Milka\\AppData\\Local\\Temp\\ipykernel_15308\\3685942428.py:17: SettingWithCopyWarning: \n",
      "A value is trying to be set on a copy of a slice from a DataFrame\n",
      "\n",
      "See the caveats in the documentation: https://pandas.pydata.org/pandas-docs/stable/user_guide/indexing.html#returning-a-view-versus-a-copy\n",
      "  januar['cena'][364] = '199.000,00'\n"
     ]
    }
   ],
   "source": [
    "pd.set_option(\"display.max_rows\", None, \"display.max_columns\", 20)\n",
    "\n",
    "november = podatki_november.drop_duplicates().drop(columns= 'opis')\n",
    "januar = podatki_januar.drop_duplicates()\n",
    "\n",
    "november = november.reset_index().drop('level_1', 1)\n",
    "januar = januar.reset_index().drop('level_1', 1)\n",
    "\n",
    "november['regija'] = november['level_0']\n",
    "januar['regija'] = januar['level_0']\n",
    "\n",
    "november = november.drop('level_0', 1)\n",
    "januar = januar.drop('level_0', 1)\n",
    "\n",
    "#V tabeli januar se je na enem mestu 64 pojavila napačna vrednost, zato jo ročno popravim\n",
    "\n",
    "januar['cena'][364] = '199.000,00'"
   ]
  },
  {
   "cell_type": "markdown",
   "metadata": {},
   "source": [
    "Pri pridobivanju podatkov se je pojavilo nekaj napak pri stolpcu 'cena'. Podatke prečistim z naslednjo funckijo in jim spremeni tip v cela števila.\n",
    "V float bo potrebno spremeniti tudi velikost stanovanja, v int pa leto gradnje."
   ]
  },
  {
   "cell_type": "code",
   "execution_count": 166,
   "metadata": {},
   "outputs": [],
   "source": [
    "def popravi_ceno(vnos):\n",
    "    nov_niz = ''\n",
    "    for znak in str(vnos):\n",
    "        if znak != ',':\n",
    "            nov_niz += znak\n",
    "        else:\n",
    "            break\n",
    "    return int(nov_niz.replace('.',''))\n",
    "\n",
    "def popravi_velikost(vnos):\n",
    "    return float(vnos.replace(',', '.'))\n",
    "\n",
    "def popravi_leto(vnos):\n",
    "    return int(vnos)\n",
    "\n",
    "november['cena'] = november['cena'].map(lambda x: popravi_ceno(x))\n",
    "januar['cena'] = januar['cena'].map(lambda x: popravi_ceno(x))\n",
    "\n",
    "november['velikost'] = november['velikost'].map(lambda x: popravi_velikost(x))\n",
    "januar['velikost'] = januar['velikost'].map(lambda x: popravi_velikost(x))\n",
    "\n",
    "november['leto'] = november['leto'].map(lambda x: popravi_leto(x))\n",
    "januar['leto'] = januar['leto'].map(lambda x: popravi_leto(x))\n",
    "\n",
    "\n"
   ]
  },
  {
   "cell_type": "markdown",
   "metadata": {},
   "source": [
    "Za primerjavo cen bo koristna informacija o ceni na kvadratni meter stanovanja."
   ]
  },
  {
   "cell_type": "code",
   "execution_count": 172,
   "metadata": {},
   "outputs": [],
   "source": [
    "november['cena na m2'] = round(november['cena'] / november['velikost'])\n",
    "januar['cena na m2'] = round(januar['cena'] / januar['velikost'])"
   ]
  },
  {
   "cell_type": "code",
   "execution_count": 173,
   "metadata": {},
   "outputs": [],
   "source": [
    "# filter po starosti, velikosti\n",
    "starost_januar = januar.sort_values(by=['leto'], ascending=True)\n",
    "cena_januar = januar.sort_values(by=['velikost'], ascending=True)"
   ]
  },
  {
   "cell_type": "markdown",
   "metadata": {},
   "source": [
    "Za natančnejšo analizo lokacij, moram počistiti stolpec, tako da bo v njem ostalo samo eno ime. "
   ]
  },
  {
   "cell_type": "code",
   "execution_count": 176,
   "metadata": {},
   "outputs": [],
   "source": [
    "def popravi_mesto(vnos):\n",
    "    nov_niz = ''\n",
    "    for znak in str(vnos):\n",
    "        if znak != ',':\n",
    "            nov_niz += znak\n",
    "        else:\n",
    "            break\n",
    "    return nov_niz\n",
    "\n",
    "november['mesto'] = november['lokacija'].map(lambda x: popravi_mesto(x))\n",
    "januar['mesto'] = januar['lokacija'].map(lambda x: popravi_mesto(x))"
   ]
  },
  {
   "cell_type": "markdown",
   "metadata": {},
   "source": [
    "# Analiza podatkov\n",
    "Zdaj so podatki v grobem pripravljeni za analizo.\n",
    "Najprej si poglejmo, koliko stanovanj je bilo na voljo po regijah in natančneje po mestih."
   ]
  },
  {
   "cell_type": "code",
   "execution_count": null,
   "metadata": {},
   "outputs": [],
   "source": []
  },
  {
   "cell_type": "markdown",
   "metadata": {},
   "source": [
    "Koliko stanovanj je na voljo v posameznih regijah in razlika med meseci. (tabela)"
   ]
  },
  {
   "cell_type": "markdown",
   "metadata": {},
   "source": [
    "Za vsako izmed regij izračunam povprečno ceno, povprečno ceno na kvadrat, velikost stanovanj, starost ter število le-teh. Primerjava med novembrom in januarjem za vse regije. (tri ločene tabele). Ali drži, da so stanovanja najdražja v Ljubljani? Spreminjanje cen po mesecih."
   ]
  },
  {
   "cell_type": "markdown",
   "metadata": {},
   "source": [
    "Za mesec januar ter november pogledam povprečno ceno stanovanj po posameznih mestih. Kje je stanovanj največ?"
   ]
  },
  {
   "cell_type": "markdown",
   "metadata": {},
   "source": [
    "Združim tabele za november in januar po regijah (tiste, ki se ponavljajo upoštevam samo enkrat). Raziščem povezavo med starostjo in cenami stanovanj, ter med velikostjo ter cenami stanovanj. V katerih regijah je na trgu največ novejših stanovanj in kje največ starejših? Tabela št. stanovanj po letih, ter po velikosti."
   ]
  },
  {
   "cell_type": "markdown",
   "metadata": {},
   "source": [
    "Cena v odvisnosti od velikosti sob in nadstropja."
   ]
  },
  {
   "cell_type": "markdown",
   "metadata": {},
   "source": [
    "Za podatke iz novembra in januarja poiščem ponavljajoče se oglase in jih shranim v novo tabelo. Ali so stanovanja, ki so dlje časa na trgu dražja?"
   ]
  },
  {
   "cell_type": "markdown",
   "metadata": {},
   "source": [
    "Zaključek:"
   ]
  }
 ],
 "metadata": {
  "interpreter": {
   "hash": "23393d2575091a37cff0d0e9e7479591a295495b26c3b2ebf9b64da572e02d85"
  },
  "kernelspec": {
   "display_name": "Python 3.8.7 64-bit",
   "language": "python",
   "name": "python3"
  },
  "language_info": {
   "codemirror_mode": {
    "name": "ipython",
    "version": 3
   },
   "file_extension": ".py",
   "mimetype": "text/x-python",
   "name": "python",
   "nbconvert_exporter": "python",
   "pygments_lexer": "ipython3",
   "version": "3.9.7"
  },
  "orig_nbformat": 4
 },
 "nbformat": 4,
 "nbformat_minor": 2
}
